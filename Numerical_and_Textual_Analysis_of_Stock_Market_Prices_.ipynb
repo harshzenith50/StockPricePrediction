{
 "cells": [
  {
   "cell_type": "code",
   "execution_count": 1,
   "metadata": {
    "colab": {
     "base_uri": "https://localhost:8080/",
     "height": 85
    },
    "id": "KkPUVvNX8cyE",
    "outputId": "eba09c28-34e3-4da4-91f6-852de1cbd269"
   },
   "outputs": [
    {
     "name": "stderr",
     "output_type": "stream",
     "text": [
      "[nltk_data] Downloading package stopwords to\n",
      "[nltk_data]     C:\\Users\\harsh\\AppData\\Roaming\\nltk_data...\n",
      "[nltk_data]   Package stopwords is already up-to-date!\n",
      "[nltk_data] Downloading package vader_lexicon to\n",
      "[nltk_data]     C:\\Users\\harsh\\AppData\\Roaming\\nltk_data...\n",
      "[nltk_data]   Package vader_lexicon is already up-to-date!\n"
     ]
    }
   ],
   "source": [
    "import os\n",
    "import warnings\n",
    "warnings.filterwarnings('ignore')\n",
    "import pandas as pd\n",
    "import numpy as np\n",
    "import matplotlib.pyplot as plt\n",
    "import itertools\n",
    "from statsmodels.tsa.stattools import adfuller, acf, pacf\n",
    "from statsmodels.tsa.arima_model import ARIMA\n",
    "import nltk\n",
    "import re\n",
    "from nltk.corpus import stopwords\n",
    "nltk.download('stopwords')\n",
    "nltk.download('vader_lexicon')\n",
    "from textblob import TextBlob\n",
    "from nltk.sentiment.vader import SentimentIntensityAnalyzer\n",
    "from nltk.stem.porter import PorterStemmer\n",
    "from sklearn.metrics import mean_squared_error\n",
    "from sklearn.model_selection import train_test_split\n",
    "from sklearn.ensemble import RandomForestRegressor, AdaBoostRegressor\n",
    "import xgboost \n",
    "import lightgbm "
   ]
  },
  {
   "cell_type": "markdown",
   "metadata": {
    "id": "PQEPCV-tZ-lJ"
   },
   "source": [
    "##### TIME SERIES ANALYSIS"
   ]
  },
  {
   "cell_type": "code",
   "execution_count": 2,
   "metadata": {
    "colab": {
     "base_uri": "https://localhost:8080/",
     "height": 170
    },
    "id": "v7tRx9Yz8rUT",
    "outputId": "a1ecec19-5a82-4472-9f9d-e8e82812bd6f",
    "scrolled": true
   },
   "outputs": [
    {
     "name": "stdout",
     "output_type": "stream",
     "text": [
      "           Date     Price      Open      High       Low  Volume  Change  \\\n",
      "0  Dec 31, 2015  26117.54  25980.86  26147.63  25941.91   6.38K   0.61%   \n",
      "1  Jan 01, 2016  26160.90  26101.50  26197.27  26008.20   6.06K   0.17%   \n",
      "2  Jan 04, 2016  25623.35  26116.52  26116.52  25596.57   9.44K  -2.05%   \n",
      "3  Jan 05, 2016  25580.34  25744.70  25766.76  25513.75  10.57K  -0.17%   \n",
      "4  Jan 06, 2016  25406.33  25628.23  25632.57  25357.70  13.81K  -0.68%   \n",
      "\n",
      "   Unnamed: 7  \n",
      "0         NaN  \n",
      "1         NaN  \n",
      "2         NaN  \n",
      "3         NaN  \n",
      "4         NaN  \n",
      "9904\n"
     ]
    }
   ],
   "source": [
    "df_prices = pd.read_csv(r'C:\\Users\\harsh\\bsesn.csv', thousands=',')\n",
    "print(df_prices.head())\n",
    "print(df_prices.size)"
   ]
  },
  {
   "cell_type": "code",
   "execution_count": 3,
   "metadata": {
    "colab": {
     "base_uri": "https://localhost:8080/",
     "height": 255
    },
    "id": "cWlvGON28uJP",
    "outputId": "d04a14fc-7f09-47a3-9894-72fd6da680d0"
   },
   "outputs": [
    {
     "name": "stdout",
     "output_type": "stream",
     "text": [
      "<class 'pandas.core.frame.DataFrame'>\n",
      "RangeIndex: 1238 entries, 0 to 1237\n",
      "Data columns (total 8 columns):\n",
      " #   Column      Non-Null Count  Dtype         \n",
      "---  ------      --------------  -----         \n",
      " 0   Date        1237 non-null   datetime64[ns]\n",
      " 1   Price       1237 non-null   float64       \n",
      " 2   Open        1237 non-null   float64       \n",
      " 3   High        1237 non-null   float64       \n",
      " 4   Low         1237 non-null   float64       \n",
      " 5   Volume      1237 non-null   object        \n",
      " 6   Change      1237 non-null   object        \n",
      " 7   Unnamed: 7  0 non-null      float64       \n",
      "dtypes: datetime64[ns](1), float64(5), object(2)\n",
      "memory usage: 77.5+ KB\n"
     ]
    }
   ],
   "source": [
    "#Converting Date column to datetime datatype\n",
    "df_prices['Date'] = pd.to_datetime(df_prices['Date'])\n",
    "df_prices.info()"
   ]
  },
  {
   "cell_type": "code",
   "execution_count": 4,
   "metadata": {},
   "outputs": [],
   "source": [
    "df_prices.drop(columns=['Unnamed: 7'],inplace=True)"
   ]
  },
  {
   "cell_type": "code",
   "execution_count": 5,
   "metadata": {
    "id": "LLeJDfJqeljf"
   },
   "outputs": [],
   "source": [
    "df_prices.dropna(inplace = True)"
   ]
  },
  {
   "cell_type": "code",
   "execution_count": 6,
   "metadata": {},
   "outputs": [
    {
     "data": {
      "text/html": [
       "<div>\n",
       "<style scoped>\n",
       "    .dataframe tbody tr th:only-of-type {\n",
       "        vertical-align: middle;\n",
       "    }\n",
       "\n",
       "    .dataframe tbody tr th {\n",
       "        vertical-align: top;\n",
       "    }\n",
       "\n",
       "    .dataframe thead th {\n",
       "        text-align: right;\n",
       "    }\n",
       "</style>\n",
       "<table border=\"1\" class=\"dataframe\">\n",
       "  <thead>\n",
       "    <tr style=\"text-align: right;\">\n",
       "      <th></th>\n",
       "      <th>Date</th>\n",
       "      <th>Price</th>\n",
       "      <th>Open</th>\n",
       "      <th>High</th>\n",
       "      <th>Low</th>\n",
       "      <th>Volume</th>\n",
       "      <th>Change</th>\n",
       "    </tr>\n",
       "  </thead>\n",
       "  <tbody>\n",
       "    <tr>\n",
       "      <th>0</th>\n",
       "      <td>2015-12-31</td>\n",
       "      <td>26117.54</td>\n",
       "      <td>25980.86</td>\n",
       "      <td>26147.63</td>\n",
       "      <td>25941.91</td>\n",
       "      <td>6.38K</td>\n",
       "      <td>0.61%</td>\n",
       "    </tr>\n",
       "    <tr>\n",
       "      <th>1</th>\n",
       "      <td>2016-01-01</td>\n",
       "      <td>26160.90</td>\n",
       "      <td>26101.50</td>\n",
       "      <td>26197.27</td>\n",
       "      <td>26008.20</td>\n",
       "      <td>6.06K</td>\n",
       "      <td>0.17%</td>\n",
       "    </tr>\n",
       "    <tr>\n",
       "      <th>2</th>\n",
       "      <td>2016-01-04</td>\n",
       "      <td>25623.35</td>\n",
       "      <td>26116.52</td>\n",
       "      <td>26116.52</td>\n",
       "      <td>25596.57</td>\n",
       "      <td>9.44K</td>\n",
       "      <td>-2.05%</td>\n",
       "    </tr>\n",
       "    <tr>\n",
       "      <th>3</th>\n",
       "      <td>2016-01-05</td>\n",
       "      <td>25580.34</td>\n",
       "      <td>25744.70</td>\n",
       "      <td>25766.76</td>\n",
       "      <td>25513.75</td>\n",
       "      <td>10.57K</td>\n",
       "      <td>-0.17%</td>\n",
       "    </tr>\n",
       "    <tr>\n",
       "      <th>4</th>\n",
       "      <td>2016-01-06</td>\n",
       "      <td>25406.33</td>\n",
       "      <td>25628.23</td>\n",
       "      <td>25632.57</td>\n",
       "      <td>25357.70</td>\n",
       "      <td>13.81K</td>\n",
       "      <td>-0.68%</td>\n",
       "    </tr>\n",
       "    <tr>\n",
       "      <th>...</th>\n",
       "      <td>...</td>\n",
       "      <td>...</td>\n",
       "      <td>...</td>\n",
       "      <td>...</td>\n",
       "      <td>...</td>\n",
       "      <td>...</td>\n",
       "      <td>...</td>\n",
       "    </tr>\n",
       "    <tr>\n",
       "      <th>1232</th>\n",
       "      <td>2020-12-23</td>\n",
       "      <td>46444.18</td>\n",
       "      <td>46072.30</td>\n",
       "      <td>46513.32</td>\n",
       "      <td>45899.10</td>\n",
       "      <td>10.47M</td>\n",
       "      <td>0.95%</td>\n",
       "    </tr>\n",
       "    <tr>\n",
       "      <th>1233</th>\n",
       "      <td>2020-12-24</td>\n",
       "      <td>46973.54</td>\n",
       "      <td>46743.49</td>\n",
       "      <td>47053.40</td>\n",
       "      <td>46539.02</td>\n",
       "      <td>13.71M</td>\n",
       "      <td>1.14%</td>\n",
       "    </tr>\n",
       "    <tr>\n",
       "      <th>1234</th>\n",
       "      <td>2020-12-28</td>\n",
       "      <td>47353.75</td>\n",
       "      <td>47153.59</td>\n",
       "      <td>47406.72</td>\n",
       "      <td>47148.24</td>\n",
       "      <td>9.59M</td>\n",
       "      <td>0.81%</td>\n",
       "    </tr>\n",
       "    <tr>\n",
       "      <th>1235</th>\n",
       "      <td>2020-12-29</td>\n",
       "      <td>47613.08</td>\n",
       "      <td>47466.62</td>\n",
       "      <td>47714.55</td>\n",
       "      <td>47361.90</td>\n",
       "      <td>12.76M</td>\n",
       "      <td>0.55%</td>\n",
       "    </tr>\n",
       "    <tr>\n",
       "      <th>1236</th>\n",
       "      <td>2020-12-30</td>\n",
       "      <td>47746.22</td>\n",
       "      <td>47789.03</td>\n",
       "      <td>47807.85</td>\n",
       "      <td>47358.36</td>\n",
       "      <td>15.63M</td>\n",
       "      <td>0.28%</td>\n",
       "    </tr>\n",
       "  </tbody>\n",
       "</table>\n",
       "<p>1237 rows × 7 columns</p>\n",
       "</div>"
      ],
      "text/plain": [
       "           Date     Price      Open      High       Low  Volume  Change\n",
       "0    2015-12-31  26117.54  25980.86  26147.63  25941.91   6.38K   0.61%\n",
       "1    2016-01-01  26160.90  26101.50  26197.27  26008.20   6.06K   0.17%\n",
       "2    2016-01-04  25623.35  26116.52  26116.52  25596.57   9.44K  -2.05%\n",
       "3    2016-01-05  25580.34  25744.70  25766.76  25513.75  10.57K  -0.17%\n",
       "4    2016-01-06  25406.33  25628.23  25632.57  25357.70  13.81K  -0.68%\n",
       "...         ...       ...       ...       ...       ...     ...     ...\n",
       "1232 2020-12-23  46444.18  46072.30  46513.32  45899.10  10.47M   0.95%\n",
       "1233 2020-12-24  46973.54  46743.49  47053.40  46539.02  13.71M   1.14%\n",
       "1234 2020-12-28  47353.75  47153.59  47406.72  47148.24   9.59M   0.81%\n",
       "1235 2020-12-29  47613.08  47466.62  47714.55  47361.90  12.76M   0.55%\n",
       "1236 2020-12-30  47746.22  47789.03  47807.85  47358.36  15.63M   0.28%\n",
       "\n",
       "[1237 rows x 7 columns]"
      ]
     },
     "execution_count": 6,
     "metadata": {},
     "output_type": "execute_result"
    }
   ],
   "source": [
    "df_prices"
   ]
  },
  {
   "cell_type": "code",
   "execution_count": 7,
   "metadata": {
    "colab": {
     "base_uri": "https://localhost:8080/",
     "height": 393
    },
    "id": "AN2mEP8b9Hhq",
    "outputId": "5caa7c33-e17c-44bb-ad42-f6163484f6e9"
   },
   "outputs": [
    {
     "data": {
      "text/plain": [
       "Text(0, 0.5, 'Price')"
      ]
     },
     "execution_count": 7,
     "metadata": {},
     "output_type": "execute_result"
    },
    {
     "data": {
      "image/png": "[encoded data removed]",
      "text/plain": [
       "<Figure size 720x432 with 1 Axes>"
      ]
     },
     "metadata": {
      "needs_background": "light"
     },
     "output_type": "display_data"
    }
   ],
   "source": [
    "plt.figure(figsize=(10, 6))\n",
    "df_prices['Price'].plot()\n",
    "plt.ylabel('Price')"
   ]
  },
  {
   "cell_type": "code",
   "execution_count": 8,
   "metadata": {},
   "outputs": [
    {
     "data": {
      "text/html": [
       "<div>\n",
       "<style scoped>\n",
       "    .dataframe tbody tr th:only-of-type {\n",
       "        vertical-align: middle;\n",
       "    }\n",
       "\n",
       "    .dataframe tbody tr th {\n",
       "        vertical-align: top;\n",
       "    }\n",
       "\n",
       "    .dataframe thead th {\n",
       "        text-align: right;\n",
       "    }\n",
       "</style>\n",
       "<table border=\"1\" class=\"dataframe\">\n",
       "  <thead>\n",
       "    <tr style=\"text-align: right;\">\n",
       "      <th></th>\n",
       "      <th>Date</th>\n",
       "      <th>Price</th>\n",
       "      <th>Open</th>\n",
       "      <th>High</th>\n",
       "      <th>Low</th>\n",
       "      <th>Volume</th>\n",
       "      <th>Change</th>\n",
       "    </tr>\n",
       "  </thead>\n",
       "  <tbody>\n",
       "    <tr>\n",
       "      <th>0</th>\n",
       "      <td>2015-12-31</td>\n",
       "      <td>26117.54</td>\n",
       "      <td>25980.86</td>\n",
       "      <td>26147.63</td>\n",
       "      <td>25941.91</td>\n",
       "      <td>6.38K</td>\n",
       "      <td>0.61%</td>\n",
       "    </tr>\n",
       "    <tr>\n",
       "      <th>1</th>\n",
       "      <td>2016-01-01</td>\n",
       "      <td>26160.90</td>\n",
       "      <td>26101.50</td>\n",
       "      <td>26197.27</td>\n",
       "      <td>26008.20</td>\n",
       "      <td>6.06K</td>\n",
       "      <td>0.17%</td>\n",
       "    </tr>\n",
       "    <tr>\n",
       "      <th>2</th>\n",
       "      <td>2016-01-04</td>\n",
       "      <td>25623.35</td>\n",
       "      <td>26116.52</td>\n",
       "      <td>26116.52</td>\n",
       "      <td>25596.57</td>\n",
       "      <td>9.44K</td>\n",
       "      <td>-2.05%</td>\n",
       "    </tr>\n",
       "    <tr>\n",
       "      <th>3</th>\n",
       "      <td>2016-01-05</td>\n",
       "      <td>25580.34</td>\n",
       "      <td>25744.70</td>\n",
       "      <td>25766.76</td>\n",
       "      <td>25513.75</td>\n",
       "      <td>10.57K</td>\n",
       "      <td>-0.17%</td>\n",
       "    </tr>\n",
       "    <tr>\n",
       "      <th>4</th>\n",
       "      <td>2016-01-06</td>\n",
       "      <td>25406.33</td>\n",
       "      <td>25628.23</td>\n",
       "      <td>25632.57</td>\n",
       "      <td>25357.70</td>\n",
       "      <td>13.81K</td>\n",
       "      <td>-0.68%</td>\n",
       "    </tr>\n",
       "    <tr>\n",
       "      <th>...</th>\n",
       "      <td>...</td>\n",
       "      <td>...</td>\n",
       "      <td>...</td>\n",
       "      <td>...</td>\n",
       "      <td>...</td>\n",
       "      <td>...</td>\n",
       "      <td>...</td>\n",
       "    </tr>\n",
       "    <tr>\n",
       "      <th>1232</th>\n",
       "      <td>2020-12-23</td>\n",
       "      <td>46444.18</td>\n",
       "      <td>46072.30</td>\n",
       "      <td>46513.32</td>\n",
       "      <td>45899.10</td>\n",
       "      <td>10.47M</td>\n",
       "      <td>0.95%</td>\n",
       "    </tr>\n",
       "    <tr>\n",
       "      <th>1233</th>\n",
       "      <td>2020-12-24</td>\n",
       "      <td>46973.54</td>\n",
       "      <td>46743.49</td>\n",
       "      <td>47053.40</td>\n",
       "      <td>46539.02</td>\n",
       "      <td>13.71M</td>\n",
       "      <td>1.14%</td>\n",
       "    </tr>\n",
       "    <tr>\n",
       "      <th>1234</th>\n",
       "      <td>2020-12-28</td>\n",
       "      <td>47353.75</td>\n",
       "      <td>47153.59</td>\n",
       "      <td>47406.72</td>\n",
       "      <td>47148.24</td>\n",
       "      <td>9.59M</td>\n",
       "      <td>0.81%</td>\n",
       "    </tr>\n",
       "    <tr>\n",
       "      <th>1235</th>\n",
       "      <td>2020-12-29</td>\n",
       "      <td>47613.08</td>\n",
       "      <td>47466.62</td>\n",
       "      <td>47714.55</td>\n",
       "      <td>47361.90</td>\n",
       "      <td>12.76M</td>\n",
       "      <td>0.55%</td>\n",
       "    </tr>\n",
       "    <tr>\n",
       "      <th>1236</th>\n",
       "      <td>2020-12-30</td>\n",
       "      <td>47746.22</td>\n",
       "      <td>47789.03</td>\n",
       "      <td>47807.85</td>\n",
       "      <td>47358.36</td>\n",
       "      <td>15.63M</td>\n",
       "      <td>0.28%</td>\n",
       "    </tr>\n",
       "  </tbody>\n",
       "</table>\n",
       "<p>1237 rows × 7 columns</p>\n",
       "</div>"
      ],
      "text/plain": [
       "           Date     Price      Open      High       Low  Volume  Change\n",
       "0    2015-12-31  26117.54  25980.86  26147.63  25941.91   6.38K   0.61%\n",
       "1    2016-01-01  26160.90  26101.50  26197.27  26008.20   6.06K   0.17%\n",
       "2    2016-01-04  25623.35  26116.52  26116.52  25596.57   9.44K  -2.05%\n",
       "3    2016-01-05  25580.34  25744.70  25766.76  25513.75  10.57K  -0.17%\n",
       "4    2016-01-06  25406.33  25628.23  25632.57  25357.70  13.81K  -0.68%\n",
       "...         ...       ...       ...       ...       ...     ...     ...\n",
       "1232 2020-12-23  46444.18  46072.30  46513.32  45899.10  10.47M   0.95%\n",
       "1233 2020-12-24  46973.54  46743.49  47053.40  46539.02  13.71M   1.14%\n",
       "1234 2020-12-28  47353.75  47153.59  47406.72  47148.24   9.59M   0.81%\n",
       "1235 2020-12-29  47613.08  47466.62  47714.55  47361.90  12.76M   0.55%\n",
       "1236 2020-12-30  47746.22  47789.03  47807.85  47358.36  15.63M   0.28%\n",
       "\n",
       "[1237 rows x 7 columns]"
      ]
     },
     "execution_count": 8,
     "metadata": {},
     "output_type": "execute_result"
    }
   ],
   "source": [
    "df_prices"
   ]
  },
  {
   "cell_type": "code",
   "execution_count": 9,
   "metadata": {
    "colab": {
     "base_uri": "https://localhost:8080/",
     "height": 391
    },
    "id": "7Rc5uD5791HV",
    "outputId": "ba7082a0-ef8f-429c-ddc8-939c6e926146"
   },
   "outputs": [
    {
     "data": {
      "text/plain": [
       "<matplotlib.legend.Legend at 0x1b6008518b0>"
      ]
     },
     "execution_count": 9,
     "metadata": {},
     "output_type": "execute_result"
    },
    {
     "data": {
      "image/png": "[encoded data removed]",
      "text/plain": [
       "<Figure size 720x432 with 1 Axes>"
      ]
     },
     "metadata": {
      "needs_background": "light"
     },
     "output_type": "display_data"
    }
   ],
   "source": [
    "#Plotting moving average\n",
    "close = df_prices['Price']\n",
    "ma = close.rolling(window = 50).mean()\n",
    "std = close.rolling(window = 50).std()\n",
    "\n",
    "plt.figure(figsize=(10, 6))\n",
    "df_prices['Price'].plot(color = 'b', label = 'Price')\n",
    "ma.plot(color = 'r', label = 'Rolling Mean')\n",
    "std.plot(label = 'Rolling Standard Deviation')\n",
    "plt.legend()"
   ]
  },
  {
   "cell_type": "code",
   "execution_count": 10,
   "metadata": {
    "colab": {
     "base_uri": "https://localhost:8080/",
     "height": 407
    },
    "id": "Nh8DfBr69-VR",
    "outputId": "477105ac-c895-4cee-85b7-fd5b72c62879"
   },
   "outputs": [
    {
     "data": {
      "text/plain": [
       "Text(0.5, 1.0, 'Returns')"
      ]
     },
     "execution_count": 10,
     "metadata": {},
     "output_type": "execute_result"
    },
    {
     "data": {
      "image/png": "[encoded data removed]",
      "text/plain": [
       "<Figure size 720x432 with 1 Axes>"
      ]
     },
     "metadata": {
      "needs_background": "light"
     },
     "output_type": "display_data"
    }
   ],
   "source": [
    "#Plotting returns\n",
    "returns = close / close.shift(1) - 1\n",
    "\n",
    "plt.figure(figsize = (10,6))\n",
    "returns.plot(label='Return', color = 'g')\n",
    "plt.title(\"Returns\")"
   ]
  },
  {
   "cell_type": "code",
   "execution_count": 11,
   "metadata": {
    "id": "qdIQZfYRWhVV"
   },
   "outputs": [],
   "source": [
    "train = df_prices[:700]\n",
    "test = df_prices[700:]"
   ]
  },
  {
   "cell_type": "code",
   "execution_count": 12,
   "metadata": {
    "colab": {
     "base_uri": "https://localhost:8080/",
     "height": 620
    },
    "id": "blcNOhntWmwI",
    "outputId": "d77d9958-d864-46d2-d728-1aabde76bfa3"
   },
   "outputs": [
    {
     "data": {
      "image/png": "[encoded data removed]",
      "text/plain": [
       "<Figure size 720x576 with 1 Axes>"
      ]
     },
     "metadata": {
      "needs_background": "light"
     },
     "output_type": "display_data"
    },
    {
     "name": "stdout",
     "output_type": "stream",
     "text": [
      "Results of dickey fuller test\n",
      "ADF Test Statistic : -0.9675315910723534\n",
      "p-value : 0.7649214871050706\n",
      "#Lags Used : 1\n",
      "Number of Observations Used : 698\n",
      "Weak evidence against null hypothesis, time series is non-stationary \n"
     ]
    }
   ],
   "source": [
    "#Stationarity test\n",
    "def test_stationarity(timeseries):\n",
    "    #Determing rolling statistics\n",
    "    rolmean = timeseries.rolling(20).mean()\n",
    "    rolstd = timeseries.rolling(20).std()\n",
    "\n",
    "    #Plot rolling statistics:\n",
    "    plt.figure(figsize = (10,8))\n",
    "    plt.plot(timeseries, color = 'y', label = 'original')\n",
    "    plt.plot(rolmean, color = 'r', label = 'rolling mean')\n",
    "    plt.plot(rolstd, color = 'b', label = 'rolling std')\n",
    "    plt.xlabel('Date')\n",
    "    plt.legend()\n",
    "    plt.title('Rolling Mean and Standard Deviation',  fontsize = 20)\n",
    "    plt.show(block = False)\n",
    "    print('Results of dickey fuller test')\n",
    "    result = adfuller(timeseries, autolag = 'AIC')\n",
    "    labels = ['ADF Test Statistic','p-value','#Lags Used','Number of Observations Used']\n",
    "    for value,label in zip(result, labels):\n",
    "        print(label+' : '+str(value) )\n",
    "    if result[1] <= 0.05:\n",
    "        print(\"Strong evidence against the null hypothesis(Ho), reject the null hypothesis. Data is stationary\")\n",
    "    else:\n",
    "        print(\"Weak evidence against null hypothesis, time series is non-stationary \")\n",
    "test_stationarity(train['Price'])"
   ]
  },
  {
   "cell_type": "code",
   "execution_count": 13,
   "metadata": {
    "colab": {
     "base_uri": "https://localhost:8080/",
     "height": 391
    },
    "id": "jgQvUAFiWx4c",
    "outputId": "c107f408-25cf-4a74-aa5e-1b1efc32b1cb"
   },
   "outputs": [
    {
     "data": {
      "text/plain": [
       "[<matplotlib.lines.Line2D at 0x1b60578f640>]"
      ]
     },
     "execution_count": 13,
     "metadata": {},
     "output_type": "execute_result"
    },
    {
     "data": {
      "image/png": "[encoded data removed]",
      "text/plain": [
       "<Figure size 720x432 with 1 Axes>"
      ]
     },
     "metadata": {
      "needs_background": "light"
     },
     "output_type": "display_data"
    }
   ],
   "source": [
    "train_log = np.log(train['Price']) \n",
    "test_log = np.log(test['Price'])\n",
    "\n",
    "mav = train_log.rolling(24).mean() \n",
    "plt.figure(figsize = (10,6))\n",
    "plt.plot(train_log) \n",
    "plt.plot(mav, color = 'red') "
   ]
  },
  {
   "cell_type": "code",
   "execution_count": 14,
   "metadata": {
    "colab": {
     "base_uri": "https://localhost:8080/",
     "height": 620
    },
    "id": "g74WFepIW52z",
    "outputId": "c5f2b0ce-99e3-4c55-f38f-8e69a3ca395d"
   },
   "outputs": [
    {
     "data": {
      "image/png": "[encoded data removed]",
      "text/plain": [
       "<Figure size 720x576 with 1 Axes>"
      ]
     },
     "metadata": {
      "needs_background": "light"
     },
     "output_type": "display_data"
    },
    {
     "name": "stdout",
     "output_type": "stream",
     "text": [
      "Results of dickey fuller test\n",
      "ADF Test Statistic : -1.1416243061227187\n",
      "p-value : 0.6981905312166929\n",
      "#Lags Used : 4\n",
      "Number of Observations Used : 695\n",
      "Weak evidence against null hypothesis, time series is non-stationary \n"
     ]
    }
   ],
   "source": [
    "train_log.dropna(inplace = True)\n",
    "test_log.dropna(inplace = True)\n",
    "\n",
    "test_stationarity(train_log)"
   ]
  },
  {
   "cell_type": "code",
   "execution_count": 15,
   "metadata": {
    "colab": {
     "base_uri": "https://localhost:8080/",
     "height": 620
    },
    "id": "vhGmsGKyXMiL",
    "outputId": "7c0a5b74-2607-4bb8-9d2b-40fbfe2a7e2f"
   },
   "outputs": [
    {
     "data": {
      "image/png": "[encoded data removed]",
      "text/plain": [
       "<Figure size 720x576 with 1 Axes>"
      ]
     },
     "metadata": {
      "needs_background": "light"
     },
     "output_type": "display_data"
    },
    {
     "name": "stdout",
     "output_type": "stream",
     "text": [
      "Results of dickey fuller test\n",
      "ADF Test Statistic : -4.980202711120555\n",
      "p-value : 2.428492327763878e-05\n",
      "#Lags Used : 1\n",
      "Number of Observations Used : 675\n",
      "Strong evidence against the null hypothesis(Ho), reject the null hypothesis. Data is stationary\n"
     ]
    }
   ],
   "source": [
    "train_log_diff = train_log - mav\n",
    "train_log_diff.dropna(inplace = True)\n",
    "\n",
    "test_stationarity(train_log_diff)"
   ]
  },
  {
   "cell_type": "code",
   "execution_count": 16,
   "metadata": {
    "colab": {
     "base_uri": "https://localhost:8080/",
     "height": 306
    },
    "id": "EUASbpXkXZt8",
    "outputId": "b26d0507-9a35-438e-f112-7aa3305a2215"
   },
   "outputs": [
    {
     "name": "stdout",
     "output_type": "stream",
     "text": [
      "Performing stepwise search to minimize aic\n",
      " ARIMA(2,1,2)(0,0,0)[0] intercept   : AIC=-4809.298, Time=0.63 sec\n",
      " ARIMA(0,1,0)(0,0,0)[0] intercept   : AIC=-4811.652, Time=0.12 sec\n",
      " ARIMA(1,1,0)(0,0,0)[0] intercept   : AIC=-4813.252, Time=0.10 sec\n",
      " ARIMA(0,1,1)(0,0,0)[0] intercept   : AIC=-4813.333, Time=0.34 sec\n",
      " ARIMA(0,1,0)(0,0,0)[0]             : AIC=-4811.960, Time=0.08 sec\n",
      " ARIMA(1,1,1)(0,0,0)[0] intercept   : AIC=-4811.541, Time=0.12 sec\n",
      " ARIMA(0,1,2)(0,0,0)[0] intercept   : AIC=-4811.476, Time=0.21 sec\n",
      " ARIMA(1,1,2)(0,0,0)[0] intercept   : AIC=-4809.649, Time=0.34 sec\n",
      " ARIMA(0,1,1)(0,0,0)[0]             : AIC=-4813.840, Time=0.08 sec\n",
      " ARIMA(1,1,1)(0,0,0)[0]             : AIC=-4811.971, Time=0.06 sec\n",
      " ARIMA(0,1,2)(0,0,0)[0]             : AIC=-4811.941, Time=0.11 sec\n",
      " ARIMA(1,1,0)(0,0,0)[0]             : AIC=-4813.771, Time=0.09 sec\n",
      " ARIMA(1,1,2)(0,0,0)[0]             : AIC=-4810.088, Time=0.13 sec\n",
      "\n",
      "Best model:  ARIMA(0,1,1)(0,0,0)[0]          \n",
      "Total fit time: 2.498 seconds\n"
     ]
    }
   ],
   "source": [
    "#Using auto arima to make predictions using log data\n",
    "from pmdarima import auto_arima\n",
    "model = auto_arima(train_log, trace = True, error_action = 'ignore', suppress_warnings = True)\n",
    "model.fit(train_log)\n",
    "predictions = model.predict(n_periods = len(test))\n",
    "predictions = pd.DataFrame(predictions,index = test_log.index,columns=['Prediction'])"
   ]
  },
  {
   "cell_type": "code",
   "execution_count": 17,
   "metadata": {
    "colab": {
     "base_uri": "https://localhost:8080/",
     "height": 312
    },
    "id": "H9gLf_tNZa05",
    "outputId": "6b79f635-cdc6-4008-eb4d-bb200a955842"
   },
   "outputs": [
    {
     "data": {
      "text/plain": [
       "Text(0, 0.5, 'Actual Stock Price')"
      ]
     },
     "execution_count": 17,
     "metadata": {},
     "output_type": "execute_result"
    },
    {
     "data": {
      "image/png": "[encoded data removed]",
      "text/plain": [
       "<Figure size 432x288 with 1 Axes>"
      ]
     },
     "metadata": {
      "needs_background": "light"
     },
     "output_type": "display_data"
    }
   ],
   "source": [
    "plt.plot(train_log, label='Train')\n",
    "plt.plot(test_log, label='Test')\n",
    "plt.plot(predictions, label='Prediction')\n",
    "plt.title('BSESN Stock Price Prediction')\n",
    "plt.xlabel('Time')\n",
    "plt.ylabel('Actual Stock Price')"
   ]
  },
  {
   "cell_type": "code",
   "execution_count": 18,
   "metadata": {
    "colab": {
     "base_uri": "https://localhost:8080/",
     "height": 34
    },
    "id": "b4MVsxv8Zzov",
    "outputId": "a80c0c85-136a-400b-ca5a-4f6e11bbca91"
   },
   "outputs": [
    {
     "name": "stdout",
     "output_type": "stream",
     "text": [
      "RMSE :  0.13912461561187295\n"
     ]
    }
   ],
   "source": [
    "#Calculating error\n",
    "rms = np.sqrt(mean_squared_error(test_log,predictions))\n",
    "print(\"RMSE : \", rms)"
   ]
  },
  {
   "cell_type": "markdown",
   "metadata": {
    "id": "prGs9EPvZ6xN"
   },
   "source": [
    "TEXTUAL ANALYSIS"
   ]
  },
  {
   "cell_type": "code",
   "execution_count": 19,
   "metadata": {
    "colab": {
     "base_uri": "https://localhost:8080/",
     "height": 419
    },
    "id": "LJ5gRZOIccDu",
    "outputId": "b7f3d748-a960-4108-fd0f-21c7d0919097"
   },
   "outputs": [
    {
     "data": {
      "text/html": [
       "<div>\n",
       "<style scoped>\n",
       "    .dataframe tbody tr th:only-of-type {\n",
       "        vertical-align: middle;\n",
       "    }\n",
       "\n",
       "    .dataframe tbody tr th {\n",
       "        vertical-align: top;\n",
       "    }\n",
       "\n",
       "    .dataframe thead th {\n",
       "        text-align: right;\n",
       "    }\n",
       "</style>\n",
       "<table border=\"1\" class=\"dataframe\">\n",
       "  <thead>\n",
       "    <tr style=\"text-align: right;\">\n",
       "      <th></th>\n",
       "      <th>Date</th>\n",
       "      <th>Category</th>\n",
       "      <th>News</th>\n",
       "    </tr>\n",
       "  </thead>\n",
       "  <tbody>\n",
       "    <tr>\n",
       "      <th>0</th>\n",
       "      <td>publish_date</td>\n",
       "      <td>headline_category</td>\n",
       "      <td>headline_text</td>\n",
       "    </tr>\n",
       "    <tr>\n",
       "      <th>1</th>\n",
       "      <td>20010102</td>\n",
       "      <td>unknown</td>\n",
       "      <td>Status quo will not be disturbed at Ayodhya; s...</td>\n",
       "    </tr>\n",
       "    <tr>\n",
       "      <th>2</th>\n",
       "      <td>20010102</td>\n",
       "      <td>unknown</td>\n",
       "      <td>Fissures in Hurriyat over Pak visit</td>\n",
       "    </tr>\n",
       "    <tr>\n",
       "      <th>3</th>\n",
       "      <td>20010102</td>\n",
       "      <td>unknown</td>\n",
       "      <td>America's unwanted heading for India?</td>\n",
       "    </tr>\n",
       "    <tr>\n",
       "      <th>4</th>\n",
       "      <td>20010102</td>\n",
       "      <td>unknown</td>\n",
       "      <td>For bigwigs; it is destination Goa</td>\n",
       "    </tr>\n",
       "    <tr>\n",
       "      <th>...</th>\n",
       "      <td>...</td>\n",
       "      <td>...</td>\n",
       "      <td>...</td>\n",
       "    </tr>\n",
       "    <tr>\n",
       "      <th>3424063</th>\n",
       "      <td>20201231</td>\n",
       "      <td>city.jodhpur</td>\n",
       "      <td>Covid-19: Despite dip in cases; Rajasthan amon...</td>\n",
       "    </tr>\n",
       "    <tr>\n",
       "      <th>3424064</th>\n",
       "      <td>20201231</td>\n",
       "      <td>city.udaipur</td>\n",
       "      <td>Covid-19: Despite dip in cases; Rajasthan amon...</td>\n",
       "    </tr>\n",
       "    <tr>\n",
       "      <th>3424065</th>\n",
       "      <td>20201231</td>\n",
       "      <td>city.ajmer</td>\n",
       "      <td>Covid-19: Despite dip in cases; Rajasthan amon...</td>\n",
       "    </tr>\n",
       "    <tr>\n",
       "      <th>3424066</th>\n",
       "      <td>20201231</td>\n",
       "      <td>removed</td>\n",
       "      <td>Govt extends deadline for use of FASTag till F...</td>\n",
       "    </tr>\n",
       "    <tr>\n",
       "      <th>3424067</th>\n",
       "      <td>20201231</td>\n",
       "      <td>entertainment.bengali.movies.news</td>\n",
       "      <td>Celebs plan to party safely and responsibly on...</td>\n",
       "    </tr>\n",
       "  </tbody>\n",
       "</table>\n",
       "<p>3424068 rows × 3 columns</p>\n",
       "</div>"
      ],
      "text/plain": [
       "                 Date                           Category  \\\n",
       "0        publish_date                  headline_category   \n",
       "1            20010102                            unknown   \n",
       "2            20010102                            unknown   \n",
       "3            20010102                            unknown   \n",
       "4            20010102                            unknown   \n",
       "...               ...                                ...   \n",
       "3424063      20201231                       city.jodhpur   \n",
       "3424064      20201231                       city.udaipur   \n",
       "3424065      20201231                         city.ajmer   \n",
       "3424066      20201231                            removed   \n",
       "3424067      20201231  entertainment.bengali.movies.news   \n",
       "\n",
       "                                                      News  \n",
       "0                                            headline_text  \n",
       "1        Status quo will not be disturbed at Ayodhya; s...  \n",
       "2                      Fissures in Hurriyat over Pak visit  \n",
       "3                    America's unwanted heading for India?  \n",
       "4                       For bigwigs; it is destination Goa  \n",
       "...                                                    ...  \n",
       "3424063  Covid-19: Despite dip in cases; Rajasthan amon...  \n",
       "3424064  Covid-19: Despite dip in cases; Rajasthan amon...  \n",
       "3424065  Covid-19: Despite dip in cases; Rajasthan amon...  \n",
       "3424066  Govt extends deadline for use of FASTag till F...  \n",
       "3424067  Celebs plan to party safely and responsibly on...  \n",
       "\n",
       "[3424068 rows x 3 columns]"
      ]
     },
     "execution_count": 19,
     "metadata": {},
     "output_type": "execute_result"
    }
   ],
   "source": [
    "cols = ['Date','Category','News']\n",
    "df_news = pd.read_csv(r'C:\\Users\\harsh\\india-news-headlines.csv', names = cols)\n",
    "df_news"
   ]
  },
  {
   "cell_type": "code",
   "execution_count": 20,
   "metadata": {
    "colab": {
     "base_uri": "https://localhost:8080/",
     "height": 170
    },
    "id": "s09RrWKwEj7i",
    "outputId": "ade11429-4355-41e1-9423-7d9f48b17ea8"
   },
   "outputs": [
    {
     "name": "stdout",
     "output_type": "stream",
     "text": [
      "<class 'pandas.core.frame.DataFrame'>\n",
      "Int64Index: 3424067 entries, 1 to 3424067\n",
      "Data columns (total 2 columns):\n",
      " #   Column  Dtype \n",
      "---  ------  ----- \n",
      " 0   Date    object\n",
      " 1   News    object\n",
      "dtypes: object(2)\n",
      "memory usage: 78.4+ MB\n"
     ]
    }
   ],
   "source": [
    "df_news.drop(0, inplace=True)\n",
    "df_news.drop('Category', axis = 1, inplace=True)\n",
    "df_news.info()"
   ]
  },
  {
   "cell_type": "code",
   "execution_count": 21,
   "metadata": {
    "colab": {
     "base_uri": "https://localhost:8080/",
     "height": 419
    },
    "id": "wAjXdsIhgtPD",
    "outputId": "2bda7e56-25a8-422c-c317-757c0b1cbeac"
   },
   "outputs": [
    {
     "data": {
      "text/html": [
       "<div>\n",
       "<style scoped>\n",
       "    .dataframe tbody tr th:only-of-type {\n",
       "        vertical-align: middle;\n",
       "    }\n",
       "\n",
       "    .dataframe tbody tr th {\n",
       "        vertical-align: top;\n",
       "    }\n",
       "\n",
       "    .dataframe thead th {\n",
       "        text-align: right;\n",
       "    }\n",
       "</style>\n",
       "<table border=\"1\" class=\"dataframe\">\n",
       "  <thead>\n",
       "    <tr style=\"text-align: right;\">\n",
       "      <th></th>\n",
       "      <th>Date</th>\n",
       "      <th>News</th>\n",
       "    </tr>\n",
       "  </thead>\n",
       "  <tbody>\n",
       "    <tr>\n",
       "      <th>1</th>\n",
       "      <td>2001-01-02</td>\n",
       "      <td>Status quo will not be disturbed at Ayodhya; s...</td>\n",
       "    </tr>\n",
       "    <tr>\n",
       "      <th>2</th>\n",
       "      <td>2001-01-02</td>\n",
       "      <td>Fissures in Hurriyat over Pak visit</td>\n",
       "    </tr>\n",
       "    <tr>\n",
       "      <th>3</th>\n",
       "      <td>2001-01-02</td>\n",
       "      <td>America's unwanted heading for India?</td>\n",
       "    </tr>\n",
       "    <tr>\n",
       "      <th>4</th>\n",
       "      <td>2001-01-02</td>\n",
       "      <td>For bigwigs; it is destination Goa</td>\n",
       "    </tr>\n",
       "    <tr>\n",
       "      <th>5</th>\n",
       "      <td>2001-01-02</td>\n",
       "      <td>Extra buses to clear tourist traffic</td>\n",
       "    </tr>\n",
       "    <tr>\n",
       "      <th>...</th>\n",
       "      <td>...</td>\n",
       "      <td>...</td>\n",
       "    </tr>\n",
       "    <tr>\n",
       "      <th>3424063</th>\n",
       "      <td>2020-12-31</td>\n",
       "      <td>Covid-19: Despite dip in cases; Rajasthan amon...</td>\n",
       "    </tr>\n",
       "    <tr>\n",
       "      <th>3424064</th>\n",
       "      <td>2020-12-31</td>\n",
       "      <td>Covid-19: Despite dip in cases; Rajasthan amon...</td>\n",
       "    </tr>\n",
       "    <tr>\n",
       "      <th>3424065</th>\n",
       "      <td>2020-12-31</td>\n",
       "      <td>Covid-19: Despite dip in cases; Rajasthan amon...</td>\n",
       "    </tr>\n",
       "    <tr>\n",
       "      <th>3424066</th>\n",
       "      <td>2020-12-31</td>\n",
       "      <td>Govt extends deadline for use of FASTag till F...</td>\n",
       "    </tr>\n",
       "    <tr>\n",
       "      <th>3424067</th>\n",
       "      <td>2020-12-31</td>\n",
       "      <td>Celebs plan to party safely and responsibly on...</td>\n",
       "    </tr>\n",
       "  </tbody>\n",
       "</table>\n",
       "<p>3424067 rows × 2 columns</p>\n",
       "</div>"
      ],
      "text/plain": [
       "              Date                                               News\n",
       "1       2001-01-02  Status quo will not be disturbed at Ayodhya; s...\n",
       "2       2001-01-02                Fissures in Hurriyat over Pak visit\n",
       "3       2001-01-02              America's unwanted heading for India?\n",
       "4       2001-01-02                 For bigwigs; it is destination Goa\n",
       "5       2001-01-02               Extra buses to clear tourist traffic\n",
       "...            ...                                                ...\n",
       "3424063 2020-12-31  Covid-19: Despite dip in cases; Rajasthan amon...\n",
       "3424064 2020-12-31  Covid-19: Despite dip in cases; Rajasthan amon...\n",
       "3424065 2020-12-31  Covid-19: Despite dip in cases; Rajasthan amon...\n",
       "3424066 2020-12-31  Govt extends deadline for use of FASTag till F...\n",
       "3424067 2020-12-31  Celebs plan to party safely and responsibly on...\n",
       "\n",
       "[3424067 rows x 2 columns]"
      ]
     },
     "execution_count": 21,
     "metadata": {},
     "output_type": "execute_result"
    }
   ],
   "source": [
    " #Converting data type of Date column \n",
    "df_news['Date'] = pd.to_datetime(df_news['Date'],format= '%Y%m%d')\n",
    "df_news"
   ]
  },
  {
   "cell_type": "code",
   "execution_count": 22,
   "metadata": {},
   "outputs": [],
   "source": [
    "df_news=df_news[df_news['Date']>=\"2015-12-31\"]"
   ]
  },
  {
   "cell_type": "code",
   "execution_count": 23,
   "metadata": {
    "colab": {
     "base_uri": "https://localhost:8080/",
     "height": 419
    },
    "id": "Bt40GZW963ac",
    "outputId": "66937bcb-0735-4baf-8983-76b82523d969"
   },
   "outputs": [
    {
     "data": {
      "text/html": [
       "<div>\n",
       "<style scoped>\n",
       "    .dataframe tbody tr th:only-of-type {\n",
       "        vertical-align: middle;\n",
       "    }\n",
       "\n",
       "    .dataframe tbody tr th {\n",
       "        vertical-align: top;\n",
       "    }\n",
       "\n",
       "    .dataframe thead th {\n",
       "        text-align: right;\n",
       "    }\n",
       "</style>\n",
       "<table border=\"1\" class=\"dataframe\">\n",
       "  <thead>\n",
       "    <tr style=\"text-align: right;\">\n",
       "      <th></th>\n",
       "      <th>Date</th>\n",
       "      <th>News</th>\n",
       "    </tr>\n",
       "  </thead>\n",
       "  <tbody>\n",
       "    <tr>\n",
       "      <th>0</th>\n",
       "      <td>2015-12-31</td>\n",
       "      <td>Answers to your food choices 7 must-try teas f...</td>\n",
       "    </tr>\n",
       "    <tr>\n",
       "      <th>1</th>\n",
       "      <td>2016-01-01</td>\n",
       "      <td>In pics: 6 winter foods that help you lose wei...</td>\n",
       "    </tr>\n",
       "    <tr>\n",
       "      <th>2</th>\n",
       "      <td>2016-01-02</td>\n",
       "      <td>4 foods to detox your system Things that happe...</td>\n",
       "    </tr>\n",
       "    <tr>\n",
       "      <th>3</th>\n",
       "      <td>2016-01-03</td>\n",
       "      <td>5-point gym protocol to follow 7 effective det...</td>\n",
       "    </tr>\n",
       "    <tr>\n",
       "      <th>4</th>\n",
       "      <td>2016-01-04</td>\n",
       "      <td>Surprising facts about exercise sweat Bizarre ...</td>\n",
       "    </tr>\n",
       "    <tr>\n",
       "      <th>...</th>\n",
       "      <td>...</td>\n",
       "      <td>...</td>\n",
       "    </tr>\n",
       "    <tr>\n",
       "      <th>1823</th>\n",
       "      <td>2020-12-27</td>\n",
       "      <td>#BigInterview! Dhritiman Chatterjee: Nobody da...</td>\n",
       "    </tr>\n",
       "    <tr>\n",
       "      <th>1824</th>\n",
       "      <td>2020-12-28</td>\n",
       "      <td>Horoscope Today; 28 December 2020: Check astro...</td>\n",
       "    </tr>\n",
       "    <tr>\n",
       "      <th>1825</th>\n",
       "      <td>2020-12-29</td>\n",
       "      <td>Man recovers charred remains of 'thief' from h...</td>\n",
       "    </tr>\n",
       "    <tr>\n",
       "      <th>1826</th>\n",
       "      <td>2020-12-30</td>\n",
       "      <td>Numerology Readings 30 December 2020: Predicti...</td>\n",
       "    </tr>\n",
       "    <tr>\n",
       "      <th>1827</th>\n",
       "      <td>2020-12-31</td>\n",
       "      <td>Horoscope Today; 31 December 2020: Check astro...</td>\n",
       "    </tr>\n",
       "  </tbody>\n",
       "</table>\n",
       "<p>1828 rows × 2 columns</p>\n",
       "</div>"
      ],
      "text/plain": [
       "           Date                                               News\n",
       "0    2015-12-31  Answers to your food choices 7 must-try teas f...\n",
       "1    2016-01-01  In pics: 6 winter foods that help you lose wei...\n",
       "2    2016-01-02  4 foods to detox your system Things that happe...\n",
       "3    2016-01-03  5-point gym protocol to follow 7 effective det...\n",
       "4    2016-01-04  Surprising facts about exercise sweat Bizarre ...\n",
       "...         ...                                                ...\n",
       "1823 2020-12-27  #BigInterview! Dhritiman Chatterjee: Nobody da...\n",
       "1824 2020-12-28  Horoscope Today; 28 December 2020: Check astro...\n",
       "1825 2020-12-29  Man recovers charred remains of 'thief' from h...\n",
       "1826 2020-12-30  Numerology Readings 30 December 2020: Predicti...\n",
       "1827 2020-12-31  Horoscope Today; 31 December 2020: Check astro...\n",
       "\n",
       "[1828 rows x 2 columns]"
      ]
     },
     "execution_count": 23,
     "metadata": {},
     "output_type": "execute_result"
    }
   ],
   "source": [
    "#Grouping the headlines for each day\n",
    "df_news['News'] = df_news.groupby(['Date']).transform(lambda x : ' '.join(x)) \n",
    "df_news = df_news.drop_duplicates() \n",
    "df_news.reset_index(inplace = True, drop = True)\n",
    "df_news"
   ]
  },
  {
   "cell_type": "code",
   "execution_count": 24,
   "metadata": {
    "colab": {
     "base_uri": "https://localhost:8080/",
     "height": 221
    },
    "id": "rO5_oVqxnEP2",
    "outputId": "ca0706b6-24ae-40ef-a10d-8898a75b3851"
   },
   "outputs": [
    {
     "data": {
      "text/plain": [
       "0       Answers to your food choices 7 must-try teas f...\n",
       "1       In pics: 6 winter foods that help you lose wei...\n",
       "2       4 foods to detox your system Things that happe...\n",
       "3       5-point gym protocol to follow 7 effective det...\n",
       "4       Surprising facts about exercise sweat Bizarre ...\n",
       "                              ...                        \n",
       "1823    #BigInterview! Dhritiman Chatterjee: Nobody da...\n",
       "1824    Horoscope Today; 28 December 2020: Check astro...\n",
       "1825    Man recovers charred remains of 'thief' from h...\n",
       "1826    Numerology Readings 30 December 2020: Predicti...\n",
       "1827    Horoscope Today; 31 December 2020: Check astro...\n",
       "Name: News, Length: 1828, dtype: object"
      ]
     },
     "execution_count": 24,
     "metadata": {},
     "output_type": "execute_result"
    }
   ],
   "source": [
    "df_news['News']"
   ]
  },
  {
   "cell_type": "code",
   "execution_count": 26,
   "metadata": {},
   "outputs": [],
   "source": [
    "from nltk.stem import PorterStemmer\n",
    "from nltk.tokenize import word_tokenize\n",
    "  \n",
    "ps = PorterStemmer()"
   ]
  },
  {
   "cell_type": "code",
   "execution_count": 27,
   "metadata": {
    "id": "C919a2Ro_nQ-"
   },
   "outputs": [],
   "source": [
    "#Cleaning headlines\n",
    "c = []\n",
    "for i in range(0,len(df_news['News'])):\n",
    "    news = re.sub('[^a-zA-Z]',' ',df_news['News'][i])\n",
    "    news = news.lower()\n",
    "    news = news.split()\n",
    "    news = [ps.stem(word) for word in news if not word in set(stopwords.words('english'))]\n",
    "    news=' '.join(news)\n",
    "    c.append(news)"
   ]
  },
  {
   "cell_type": "code",
   "execution_count": 28,
   "metadata": {
    "colab": {
     "base_uri": "https://localhost:8080/",
     "height": 419
    },
    "id": "yXiDeuZTSoCu",
    "outputId": "001f65de-9b35-44a0-947b-d6fd44b1585b"
   },
   "outputs": [
    {
     "data": {
      "text/html": [
       "<div>\n",
       "<style scoped>\n",
       "    .dataframe tbody tr th:only-of-type {\n",
       "        vertical-align: middle;\n",
       "    }\n",
       "\n",
       "    .dataframe tbody tr th {\n",
       "        vertical-align: top;\n",
       "    }\n",
       "\n",
       "    .dataframe thead th {\n",
       "        text-align: right;\n",
       "    }\n",
       "</style>\n",
       "<table border=\"1\" class=\"dataframe\">\n",
       "  <thead>\n",
       "    <tr style=\"text-align: right;\">\n",
       "      <th></th>\n",
       "      <th>Date</th>\n",
       "      <th>News</th>\n",
       "    </tr>\n",
       "  </thead>\n",
       "  <tbody>\n",
       "    <tr>\n",
       "      <th>0</th>\n",
       "      <td>2015-12-31</td>\n",
       "      <td>answer food choic must tri tea healthier right...</td>\n",
       "    </tr>\n",
       "    <tr>\n",
       "      <th>1</th>\n",
       "      <td>2016-01-01</td>\n",
       "      <td>pic winter food help lose weight top health we...</td>\n",
       "    </tr>\n",
       "    <tr>\n",
       "      <th>2</th>\n",
       "      <td>2016-01-02</td>\n",
       "      <td>food detox system thing happen women sex craft...</td>\n",
       "    </tr>\n",
       "    <tr>\n",
       "      <th>3</th>\n",
       "      <td>2016-01-03</td>\n",
       "      <td>point gym protocol follow effect detox food qu...</td>\n",
       "    </tr>\n",
       "    <tr>\n",
       "      <th>4</th>\n",
       "      <td>2016-01-04</td>\n",
       "      <td>surpris fact exercis sweat bizarr home remedi ...</td>\n",
       "    </tr>\n",
       "    <tr>\n",
       "      <th>...</th>\n",
       "      <td>...</td>\n",
       "      <td>...</td>\n",
       "    </tr>\n",
       "    <tr>\n",
       "      <th>1823</th>\n",
       "      <td>2020-12-27</td>\n",
       "      <td>biginterview dhritiman chatterje nobodi dare m...</td>\n",
       "    </tr>\n",
       "    <tr>\n",
       "      <th>1824</th>\n",
       "      <td>2020-12-28</td>\n",
       "      <td>horoscop today decemb check astrolog predict a...</td>\n",
       "    </tr>\n",
       "    <tr>\n",
       "      <th>1825</th>\n",
       "      <td>2020-12-29</td>\n",
       "      <td>man recov char remain thief burnt shop dump be...</td>\n",
       "    </tr>\n",
       "    <tr>\n",
       "      <th>1826</th>\n",
       "      <td>2020-12-30</td>\n",
       "      <td>numerolog read decemb predict lucki colour luc...</td>\n",
       "    </tr>\n",
       "    <tr>\n",
       "      <th>1827</th>\n",
       "      <td>2020-12-31</td>\n",
       "      <td>horoscop today decemb check astrolog predict a...</td>\n",
       "    </tr>\n",
       "  </tbody>\n",
       "</table>\n",
       "<p>1828 rows × 2 columns</p>\n",
       "</div>"
      ],
      "text/plain": [
       "           Date                                               News\n",
       "0    2015-12-31  answer food choic must tri tea healthier right...\n",
       "1    2016-01-01  pic winter food help lose weight top health we...\n",
       "2    2016-01-02  food detox system thing happen women sex craft...\n",
       "3    2016-01-03  point gym protocol follow effect detox food qu...\n",
       "4    2016-01-04  surpris fact exercis sweat bizarr home remedi ...\n",
       "...         ...                                                ...\n",
       "1823 2020-12-27  biginterview dhritiman chatterje nobodi dare m...\n",
       "1824 2020-12-28  horoscop today decemb check astrolog predict a...\n",
       "1825 2020-12-29  man recov char remain thief burnt shop dump be...\n",
       "1826 2020-12-30  numerolog read decemb predict lucki colour luc...\n",
       "1827 2020-12-31  horoscop today decemb check astrolog predict a...\n",
       "\n",
       "[1828 rows x 2 columns]"
      ]
     },
     "execution_count": 28,
     "metadata": {},
     "output_type": "execute_result"
    }
   ],
   "source": [
    "df_news['News'] = pd.Series(c)\n",
    "df_news"
   ]
  },
  {
   "cell_type": "code",
   "execution_count": 29,
   "metadata": {
    "id": "EHXwfi5p-ItO"
   },
   "outputs": [],
   "source": [
    "#Functions to get the subjectivity and polarity\n",
    "def getSubjectivity(text):\n",
    "    return TextBlob(text).sentiment.subjectivity\n",
    "\n",
    "def getPolarity(text):\n",
    "    return  TextBlob(text).sentiment.polarity"
   ]
  },
  {
   "cell_type": "code",
   "execution_count": 30,
   "metadata": {
    "colab": {
     "base_uri": "https://localhost:8080/",
     "height": 419
    },
    "id": "hD75mMdf-Rsv",
    "outputId": "1f1774e7-9c6f-42b9-befe-05f6d9919e44"
   },
   "outputs": [
    {
     "data": {
      "text/html": [
       "<div>\n",
       "<style scoped>\n",
       "    .dataframe tbody tr th:only-of-type {\n",
       "        vertical-align: middle;\n",
       "    }\n",
       "\n",
       "    .dataframe tbody tr th {\n",
       "        vertical-align: top;\n",
       "    }\n",
       "\n",
       "    .dataframe thead th {\n",
       "        text-align: right;\n",
       "    }\n",
       "</style>\n",
       "<table border=\"1\" class=\"dataframe\">\n",
       "  <thead>\n",
       "    <tr style=\"text-align: right;\">\n",
       "      <th></th>\n",
       "      <th>Date</th>\n",
       "      <th>News</th>\n",
       "      <th>Subjectivity</th>\n",
       "      <th>Polarity</th>\n",
       "    </tr>\n",
       "  </thead>\n",
       "  <tbody>\n",
       "    <tr>\n",
       "      <th>0</th>\n",
       "      <td>2015-12-31</td>\n",
       "      <td>answer food choic must tri tea healthier right...</td>\n",
       "      <td>0.405949</td>\n",
       "      <td>0.084809</td>\n",
       "    </tr>\n",
       "    <tr>\n",
       "      <th>1</th>\n",
       "      <td>2016-01-01</td>\n",
       "      <td>pic winter food help lose weight top health we...</td>\n",
       "      <td>0.396936</td>\n",
       "      <td>0.079459</td>\n",
       "    </tr>\n",
       "    <tr>\n",
       "      <th>2</th>\n",
       "      <td>2016-01-02</td>\n",
       "      <td>food detox system thing happen women sex craft...</td>\n",
       "      <td>0.464979</td>\n",
       "      <td>0.085414</td>\n",
       "    </tr>\n",
       "    <tr>\n",
       "      <th>3</th>\n",
       "      <td>2016-01-03</td>\n",
       "      <td>point gym protocol follow effect detox food qu...</td>\n",
       "      <td>0.395856</td>\n",
       "      <td>0.076718</td>\n",
       "    </tr>\n",
       "    <tr>\n",
       "      <th>4</th>\n",
       "      <td>2016-01-04</td>\n",
       "      <td>surpris fact exercis sweat bizarr home remedi ...</td>\n",
       "      <td>0.402258</td>\n",
       "      <td>0.035205</td>\n",
       "    </tr>\n",
       "    <tr>\n",
       "      <th>...</th>\n",
       "      <td>...</td>\n",
       "      <td>...</td>\n",
       "      <td>...</td>\n",
       "      <td>...</td>\n",
       "    </tr>\n",
       "    <tr>\n",
       "      <th>1823</th>\n",
       "      <td>2020-12-27</td>\n",
       "      <td>biginterview dhritiman chatterje nobodi dare m...</td>\n",
       "      <td>0.366994</td>\n",
       "      <td>0.058187</td>\n",
       "    </tr>\n",
       "    <tr>\n",
       "      <th>1824</th>\n",
       "      <td>2020-12-28</td>\n",
       "      <td>horoscop today decemb check astrolog predict a...</td>\n",
       "      <td>0.395275</td>\n",
       "      <td>0.085493</td>\n",
       "    </tr>\n",
       "    <tr>\n",
       "      <th>1825</th>\n",
       "      <td>2020-12-29</td>\n",
       "      <td>man recov char remain thief burnt shop dump be...</td>\n",
       "      <td>0.399135</td>\n",
       "      <td>0.068856</td>\n",
       "    </tr>\n",
       "    <tr>\n",
       "      <th>1826</th>\n",
       "      <td>2020-12-30</td>\n",
       "      <td>numerolog read decemb predict lucki colour luc...</td>\n",
       "      <td>0.389012</td>\n",
       "      <td>0.040116</td>\n",
       "    </tr>\n",
       "    <tr>\n",
       "      <th>1827</th>\n",
       "      <td>2020-12-31</td>\n",
       "      <td>horoscop today decemb check astrolog predict a...</td>\n",
       "      <td>0.406992</td>\n",
       "      <td>0.103598</td>\n",
       "    </tr>\n",
       "  </tbody>\n",
       "</table>\n",
       "<p>1828 rows × 4 columns</p>\n",
       "</div>"
      ],
      "text/plain": [
       "           Date                                               News  \\\n",
       "0    2015-12-31  answer food choic must tri tea healthier right...   \n",
       "1    2016-01-01  pic winter food help lose weight top health we...   \n",
       "2    2016-01-02  food detox system thing happen women sex craft...   \n",
       "3    2016-01-03  point gym protocol follow effect detox food qu...   \n",
       "4    2016-01-04  surpris fact exercis sweat bizarr home remedi ...   \n",
       "...         ...                                                ...   \n",
       "1823 2020-12-27  biginterview dhritiman chatterje nobodi dare m...   \n",
       "1824 2020-12-28  horoscop today decemb check astrolog predict a...   \n",
       "1825 2020-12-29  man recov char remain thief burnt shop dump be...   \n",
       "1826 2020-12-30  numerolog read decemb predict lucki colour luc...   \n",
       "1827 2020-12-31  horoscop today decemb check astrolog predict a...   \n",
       "\n",
       "      Subjectivity  Polarity  \n",
       "0         0.405949  0.084809  \n",
       "1         0.396936  0.079459  \n",
       "2         0.464979  0.085414  \n",
       "3         0.395856  0.076718  \n",
       "4         0.402258  0.035205  \n",
       "...            ...       ...  \n",
       "1823      0.366994  0.058187  \n",
       "1824      0.395275  0.085493  \n",
       "1825      0.399135  0.068856  \n",
       "1826      0.389012  0.040116  \n",
       "1827      0.406992  0.103598  \n",
       "\n",
       "[1828 rows x 4 columns]"
      ]
     },
     "execution_count": 30,
     "metadata": {},
     "output_type": "execute_result"
    }
   ],
   "source": [
    "#Adding subjectivity and polarity columns\n",
    "df_news['Subjectivity'] = df_news['News'].apply(getSubjectivity)\n",
    "df_news['Polarity'] = df_news['News'].apply(getPolarity)\n",
    "df_news"
   ]
  },
  {
   "cell_type": "code",
   "execution_count": 31,
   "metadata": {
    "colab": {
     "base_uri": "https://localhost:8080/",
     "height": 392
    },
    "id": "sKLOKZXg_rP0",
    "outputId": "d893f213-2a39-4035-d313-d3dd0daea323"
   },
   "outputs": [
    {
     "data": {
      "text/plain": [
       "<matplotlib.axes._subplots.AxesSubplot at 0x1b6070fffa0>"
      ]
     },
     "execution_count": 31,
     "metadata": {},
     "output_type": "execute_result"
    },
    {
     "data": {
      "image/png": "[encoded data removed]",
      "text/plain": [
       "<Figure size 720x432 with 1 Axes>"
      ]
     },
     "metadata": {
      "needs_background": "light"
     },
     "output_type": "display_data"
    }
   ],
   "source": [
    "plt.figure(figsize = (10,6))\n",
    "df_news['Polarity'].hist(color = 'purple')"
   ]
  },
  {
   "cell_type": "code",
   "execution_count": 32,
   "metadata": {
    "colab": {
     "base_uri": "https://localhost:8080/",
     "height": 391
    },
    "id": "H9Q2gW9oBW6G",
    "outputId": "4654c53f-f280-4fa9-ab96-a4829283df27"
   },
   "outputs": [
    {
     "data": {
      "text/plain": [
       "<matplotlib.axes._subplots.AxesSubplot at 0x1b607212190>"
      ]
     },
     "execution_count": 32,
     "metadata": {},
     "output_type": "execute_result"
    },
    {
     "data": {
      "image/png": "[encoded data removed]",
      "text/plain": [
       "<Figure size 720x432 with 1 Axes>"
      ]
     },
     "metadata": {
      "needs_background": "light"
     },
     "output_type": "display_data"
    }
   ],
   "source": [
    "plt.figure(figsize = (10,6))\n",
    "df_news['Subjectivity'].hist(color = 'blue')"
   ]
  },
  {
   "cell_type": "code",
   "execution_count": 33,
   "metadata": {
    "colab": {
     "base_uri": "https://localhost:8080/",
     "height": 419
    },
    "id": "KhpC_kViBfEM",
    "outputId": "d8a01974-a96e-46b0-b609-ef80792a8a96"
   },
   "outputs": [
    {
     "data": {
      "text/html": [
       "<div>\n",
       "<style scoped>\n",
       "    .dataframe tbody tr th:only-of-type {\n",
       "        vertical-align: middle;\n",
       "    }\n",
       "\n",
       "    .dataframe tbody tr th {\n",
       "        vertical-align: top;\n",
       "    }\n",
       "\n",
       "    .dataframe thead th {\n",
       "        text-align: right;\n",
       "    }\n",
       "</style>\n",
       "<table border=\"1\" class=\"dataframe\">\n",
       "  <thead>\n",
       "    <tr style=\"text-align: right;\">\n",
       "      <th></th>\n",
       "      <th>Date</th>\n",
       "      <th>News</th>\n",
       "      <th>Subjectivity</th>\n",
       "      <th>Polarity</th>\n",
       "      <th>Compound</th>\n",
       "      <th>Negative</th>\n",
       "      <th>Neutral</th>\n",
       "      <th>Positive</th>\n",
       "    </tr>\n",
       "  </thead>\n",
       "  <tbody>\n",
       "    <tr>\n",
       "      <th>0</th>\n",
       "      <td>2015-12-31</td>\n",
       "      <td>answer food choic must tri tea healthier right...</td>\n",
       "      <td>0.405949</td>\n",
       "      <td>0.084809</td>\n",
       "      <td>-0.9997</td>\n",
       "      <td>0.144</td>\n",
       "      <td>0.762</td>\n",
       "      <td>0.094</td>\n",
       "    </tr>\n",
       "    <tr>\n",
       "      <th>1</th>\n",
       "      <td>2016-01-01</td>\n",
       "      <td>pic winter food help lose weight top health we...</td>\n",
       "      <td>0.396936</td>\n",
       "      <td>0.079459</td>\n",
       "      <td>-0.9994</td>\n",
       "      <td>0.121</td>\n",
       "      <td>0.787</td>\n",
       "      <td>0.092</td>\n",
       "    </tr>\n",
       "    <tr>\n",
       "      <th>2</th>\n",
       "      <td>2016-01-02</td>\n",
       "      <td>food detox system thing happen women sex craft...</td>\n",
       "      <td>0.464979</td>\n",
       "      <td>0.085414</td>\n",
       "      <td>-0.9999</td>\n",
       "      <td>0.151</td>\n",
       "      <td>0.759</td>\n",
       "      <td>0.090</td>\n",
       "    </tr>\n",
       "    <tr>\n",
       "      <th>3</th>\n",
       "      <td>2016-01-03</td>\n",
       "      <td>point gym protocol follow effect detox food qu...</td>\n",
       "      <td>0.395856</td>\n",
       "      <td>0.076718</td>\n",
       "      <td>-0.9999</td>\n",
       "      <td>0.179</td>\n",
       "      <td>0.733</td>\n",
       "      <td>0.087</td>\n",
       "    </tr>\n",
       "    <tr>\n",
       "      <th>4</th>\n",
       "      <td>2016-01-04</td>\n",
       "      <td>surpris fact exercis sweat bizarr home remedi ...</td>\n",
       "      <td>0.402258</td>\n",
       "      <td>0.035205</td>\n",
       "      <td>-0.9997</td>\n",
       "      <td>0.139</td>\n",
       "      <td>0.769</td>\n",
       "      <td>0.091</td>\n",
       "    </tr>\n",
       "    <tr>\n",
       "      <th>...</th>\n",
       "      <td>...</td>\n",
       "      <td>...</td>\n",
       "      <td>...</td>\n",
       "      <td>...</td>\n",
       "      <td>...</td>\n",
       "      <td>...</td>\n",
       "      <td>...</td>\n",
       "      <td>...</td>\n",
       "    </tr>\n",
       "    <tr>\n",
       "      <th>1823</th>\n",
       "      <td>2020-12-27</td>\n",
       "      <td>biginterview dhritiman chatterje nobodi dare m...</td>\n",
       "      <td>0.366994</td>\n",
       "      <td>0.058187</td>\n",
       "      <td>-0.9998</td>\n",
       "      <td>0.145</td>\n",
       "      <td>0.786</td>\n",
       "      <td>0.068</td>\n",
       "    </tr>\n",
       "    <tr>\n",
       "      <th>1824</th>\n",
       "      <td>2020-12-28</td>\n",
       "      <td>horoscop today decemb check astrolog predict a...</td>\n",
       "      <td>0.395275</td>\n",
       "      <td>0.085493</td>\n",
       "      <td>-0.9996</td>\n",
       "      <td>0.120</td>\n",
       "      <td>0.807</td>\n",
       "      <td>0.074</td>\n",
       "    </tr>\n",
       "    <tr>\n",
       "      <th>1825</th>\n",
       "      <td>2020-12-29</td>\n",
       "      <td>man recov char remain thief burnt shop dump be...</td>\n",
       "      <td>0.399135</td>\n",
       "      <td>0.068856</td>\n",
       "      <td>-0.9998</td>\n",
       "      <td>0.145</td>\n",
       "      <td>0.782</td>\n",
       "      <td>0.073</td>\n",
       "    </tr>\n",
       "    <tr>\n",
       "      <th>1826</th>\n",
       "      <td>2020-12-30</td>\n",
       "      <td>numerolog read decemb predict lucki colour luc...</td>\n",
       "      <td>0.389012</td>\n",
       "      <td>0.040116</td>\n",
       "      <td>-0.9999</td>\n",
       "      <td>0.149</td>\n",
       "      <td>0.782</td>\n",
       "      <td>0.069</td>\n",
       "    </tr>\n",
       "    <tr>\n",
       "      <th>1827</th>\n",
       "      <td>2020-12-31</td>\n",
       "      <td>horoscop today decemb check astrolog predict a...</td>\n",
       "      <td>0.406992</td>\n",
       "      <td>0.103598</td>\n",
       "      <td>-0.9995</td>\n",
       "      <td>0.117</td>\n",
       "      <td>0.810</td>\n",
       "      <td>0.073</td>\n",
       "    </tr>\n",
       "  </tbody>\n",
       "</table>\n",
       "<p>1828 rows × 8 columns</p>\n",
       "</div>"
      ],
      "text/plain": [
       "           Date                                               News  \\\n",
       "0    2015-12-31  answer food choic must tri tea healthier right...   \n",
       "1    2016-01-01  pic winter food help lose weight top health we...   \n",
       "2    2016-01-02  food detox system thing happen women sex craft...   \n",
       "3    2016-01-03  point gym protocol follow effect detox food qu...   \n",
       "4    2016-01-04  surpris fact exercis sweat bizarr home remedi ...   \n",
       "...         ...                                                ...   \n",
       "1823 2020-12-27  biginterview dhritiman chatterje nobodi dare m...   \n",
       "1824 2020-12-28  horoscop today decemb check astrolog predict a...   \n",
       "1825 2020-12-29  man recov char remain thief burnt shop dump be...   \n",
       "1826 2020-12-30  numerolog read decemb predict lucki colour luc...   \n",
       "1827 2020-12-31  horoscop today decemb check astrolog predict a...   \n",
       "\n",
       "      Subjectivity  Polarity  Compound  Negative  Neutral  Positive  \n",
       "0         0.405949  0.084809   -0.9997     0.144    0.762     0.094  \n",
       "1         0.396936  0.079459   -0.9994     0.121    0.787     0.092  \n",
       "2         0.464979  0.085414   -0.9999     0.151    0.759     0.090  \n",
       "3         0.395856  0.076718   -0.9999     0.179    0.733     0.087  \n",
       "4         0.402258  0.035205   -0.9997     0.139    0.769     0.091  \n",
       "...            ...       ...       ...       ...      ...       ...  \n",
       "1823      0.366994  0.058187   -0.9998     0.145    0.786     0.068  \n",
       "1824      0.395275  0.085493   -0.9996     0.120    0.807     0.074  \n",
       "1825      0.399135  0.068856   -0.9998     0.145    0.782     0.073  \n",
       "1826      0.389012  0.040116   -0.9999     0.149    0.782     0.069  \n",
       "1827      0.406992  0.103598   -0.9995     0.117    0.810     0.073  \n",
       "\n",
       "[1828 rows x 8 columns]"
      ]
     },
     "execution_count": 33,
     "metadata": {},
     "output_type": "execute_result"
    }
   ],
   "source": [
    "#Adding sentiment score to df_news\n",
    "sia = SentimentIntensityAnalyzer()\n",
    "\n",
    "df_news['Compound'] = [sia.polarity_scores(v)['compound'] for v in df_news['News']]\n",
    "df_news['Negative'] = [sia.polarity_scores(v)['neg'] for v in df_news['News']]\n",
    "df_news['Neutral'] = [sia.polarity_scores(v)['neu'] for v in df_news['News']]\n",
    "df_news['Positive'] = [sia.polarity_scores(v)['pos'] for v in df_news['News']]\n",
    "df_news"
   ]
  },
  {
   "cell_type": "code",
   "execution_count": 34,
   "metadata": {
    "colab": {
     "base_uri": "https://localhost:8080/",
     "height": 1000
    },
    "id": "z6P2SKvLFY9M",
    "outputId": "5e84f0db-344c-4c7b-c823-8a6fd388fbf8"
   },
   "outputs": [
    {
     "data": {
      "text/html": [
       "<div>\n",
       "<style scoped>\n",
       "    .dataframe tbody tr th:only-of-type {\n",
       "        vertical-align: middle;\n",
       "    }\n",
       "\n",
       "    .dataframe tbody tr th {\n",
       "        vertical-align: top;\n",
       "    }\n",
       "\n",
       "    .dataframe thead th {\n",
       "        text-align: right;\n",
       "    }\n",
       "</style>\n",
       "<table border=\"1\" class=\"dataframe\">\n",
       "  <thead>\n",
       "    <tr style=\"text-align: right;\">\n",
       "      <th></th>\n",
       "      <th>Date</th>\n",
       "      <th>Price</th>\n",
       "      <th>Open</th>\n",
       "      <th>High</th>\n",
       "      <th>Low</th>\n",
       "      <th>Volume</th>\n",
       "      <th>Change</th>\n",
       "      <th>News</th>\n",
       "      <th>Subjectivity</th>\n",
       "      <th>Polarity</th>\n",
       "      <th>Compound</th>\n",
       "      <th>Negative</th>\n",
       "      <th>Neutral</th>\n",
       "      <th>Positive</th>\n",
       "    </tr>\n",
       "  </thead>\n",
       "  <tbody>\n",
       "    <tr>\n",
       "      <th>0</th>\n",
       "      <td>2015-12-31</td>\n",
       "      <td>26117.54</td>\n",
       "      <td>25980.86</td>\n",
       "      <td>26147.63</td>\n",
       "      <td>25941.91</td>\n",
       "      <td>6.38K</td>\n",
       "      <td>0.61%</td>\n",
       "      <td>answer food choic must tri tea healthier right...</td>\n",
       "      <td>0.405949</td>\n",
       "      <td>0.084809</td>\n",
       "      <td>-0.9997</td>\n",
       "      <td>0.144</td>\n",
       "      <td>0.762</td>\n",
       "      <td>0.094</td>\n",
       "    </tr>\n",
       "    <tr>\n",
       "      <th>1</th>\n",
       "      <td>2016-01-01</td>\n",
       "      <td>26160.90</td>\n",
       "      <td>26101.50</td>\n",
       "      <td>26197.27</td>\n",
       "      <td>26008.20</td>\n",
       "      <td>6.06K</td>\n",
       "      <td>0.17%</td>\n",
       "      <td>pic winter food help lose weight top health we...</td>\n",
       "      <td>0.396936</td>\n",
       "      <td>0.079459</td>\n",
       "      <td>-0.9994</td>\n",
       "      <td>0.121</td>\n",
       "      <td>0.787</td>\n",
       "      <td>0.092</td>\n",
       "    </tr>\n",
       "    <tr>\n",
       "      <th>2</th>\n",
       "      <td>2016-01-04</td>\n",
       "      <td>25623.35</td>\n",
       "      <td>26116.52</td>\n",
       "      <td>26116.52</td>\n",
       "      <td>25596.57</td>\n",
       "      <td>9.44K</td>\n",
       "      <td>-2.05%</td>\n",
       "      <td>surpris fact exercis sweat bizarr home remedi ...</td>\n",
       "      <td>0.402258</td>\n",
       "      <td>0.035205</td>\n",
       "      <td>-0.9997</td>\n",
       "      <td>0.139</td>\n",
       "      <td>0.769</td>\n",
       "      <td>0.091</td>\n",
       "    </tr>\n",
       "    <tr>\n",
       "      <th>3</th>\n",
       "      <td>2016-01-05</td>\n",
       "      <td>25580.34</td>\n",
       "      <td>25744.70</td>\n",
       "      <td>25766.76</td>\n",
       "      <td>25513.75</td>\n",
       "      <td>10.57K</td>\n",
       "      <td>-0.17%</td>\n",
       "      <td>top weight manag tip travel depress find simpl...</td>\n",
       "      <td>0.376177</td>\n",
       "      <td>0.074015</td>\n",
       "      <td>-0.9999</td>\n",
       "      <td>0.162</td>\n",
       "      <td>0.753</td>\n",
       "      <td>0.085</td>\n",
       "    </tr>\n",
       "    <tr>\n",
       "      <th>4</th>\n",
       "      <td>2016-01-06</td>\n",
       "      <td>25406.33</td>\n",
       "      <td>25628.23</td>\n",
       "      <td>25632.57</td>\n",
       "      <td>25357.70</td>\n",
       "      <td>13.81K</td>\n",
       "      <td>-0.68%</td>\n",
       "      <td>way say stress exercis tone thigh guid correct...</td>\n",
       "      <td>0.401723</td>\n",
       "      <td>0.087999</td>\n",
       "      <td>-0.9989</td>\n",
       "      <td>0.126</td>\n",
       "      <td>0.768</td>\n",
       "      <td>0.106</td>\n",
       "    </tr>\n",
       "    <tr>\n",
       "      <th>...</th>\n",
       "      <td>...</td>\n",
       "      <td>...</td>\n",
       "      <td>...</td>\n",
       "      <td>...</td>\n",
       "      <td>...</td>\n",
       "      <td>...</td>\n",
       "      <td>...</td>\n",
       "      <td>...</td>\n",
       "      <td>...</td>\n",
       "      <td>...</td>\n",
       "      <td>...</td>\n",
       "      <td>...</td>\n",
       "      <td>...</td>\n",
       "      <td>...</td>\n",
       "    </tr>\n",
       "    <tr>\n",
       "      <th>1232</th>\n",
       "      <td>2020-12-23</td>\n",
       "      <td>46444.18</td>\n",
       "      <td>46072.30</td>\n",
       "      <td>46513.32</td>\n",
       "      <td>45899.10</td>\n",
       "      <td>10.47M</td>\n",
       "      <td>0.95%</td>\n",
       "      <td>sawmil makarpura gidc gut none hurt civic bodi...</td>\n",
       "      <td>0.368617</td>\n",
       "      <td>0.091200</td>\n",
       "      <td>-0.9999</td>\n",
       "      <td>0.145</td>\n",
       "      <td>0.789</td>\n",
       "      <td>0.066</td>\n",
       "    </tr>\n",
       "    <tr>\n",
       "      <th>1233</th>\n",
       "      <td>2020-12-24</td>\n",
       "      <td>46973.54</td>\n",
       "      <td>46743.49</td>\n",
       "      <td>47053.40</td>\n",
       "      <td>46539.02</td>\n",
       "      <td>13.71M</td>\n",
       "      <td>1.14%</td>\n",
       "      <td>set mood sex cold winter two hous blow gujarat...</td>\n",
       "      <td>0.386303</td>\n",
       "      <td>0.065157</td>\n",
       "      <td>-0.9995</td>\n",
       "      <td>0.116</td>\n",
       "      <td>0.809</td>\n",
       "      <td>0.075</td>\n",
       "    </tr>\n",
       "    <tr>\n",
       "      <th>1234</th>\n",
       "      <td>2020-12-28</td>\n",
       "      <td>47353.75</td>\n",
       "      <td>47153.59</td>\n",
       "      <td>47406.72</td>\n",
       "      <td>47148.24</td>\n",
       "      <td>9.59M</td>\n",
       "      <td>0.81%</td>\n",
       "      <td>horoscop today decemb check astrolog predict a...</td>\n",
       "      <td>0.395275</td>\n",
       "      <td>0.085493</td>\n",
       "      <td>-0.9996</td>\n",
       "      <td>0.120</td>\n",
       "      <td>0.807</td>\n",
       "      <td>0.074</td>\n",
       "    </tr>\n",
       "    <tr>\n",
       "      <th>1235</th>\n",
       "      <td>2020-12-29</td>\n",
       "      <td>47613.08</td>\n",
       "      <td>47466.62</td>\n",
       "      <td>47714.55</td>\n",
       "      <td>47361.90</td>\n",
       "      <td>12.76M</td>\n",
       "      <td>0.55%</td>\n",
       "      <td>man recov char remain thief burnt shop dump be...</td>\n",
       "      <td>0.399135</td>\n",
       "      <td>0.068856</td>\n",
       "      <td>-0.9998</td>\n",
       "      <td>0.145</td>\n",
       "      <td>0.782</td>\n",
       "      <td>0.073</td>\n",
       "    </tr>\n",
       "    <tr>\n",
       "      <th>1236</th>\n",
       "      <td>2020-12-30</td>\n",
       "      <td>47746.22</td>\n",
       "      <td>47789.03</td>\n",
       "      <td>47807.85</td>\n",
       "      <td>47358.36</td>\n",
       "      <td>15.63M</td>\n",
       "      <td>0.28%</td>\n",
       "      <td>numerolog read decemb predict lucki colour luc...</td>\n",
       "      <td>0.389012</td>\n",
       "      <td>0.040116</td>\n",
       "      <td>-0.9999</td>\n",
       "      <td>0.149</td>\n",
       "      <td>0.782</td>\n",
       "      <td>0.069</td>\n",
       "    </tr>\n",
       "  </tbody>\n",
       "</table>\n",
       "<p>1237 rows × 14 columns</p>\n",
       "</div>"
      ],
      "text/plain": [
       "           Date     Price      Open      High       Low  Volume  Change  \\\n",
       "0    2015-12-31  26117.54  25980.86  26147.63  25941.91   6.38K   0.61%   \n",
       "1    2016-01-01  26160.90  26101.50  26197.27  26008.20   6.06K   0.17%   \n",
       "2    2016-01-04  25623.35  26116.52  26116.52  25596.57   9.44K  -2.05%   \n",
       "3    2016-01-05  25580.34  25744.70  25766.76  25513.75  10.57K  -0.17%   \n",
       "4    2016-01-06  25406.33  25628.23  25632.57  25357.70  13.81K  -0.68%   \n",
       "...         ...       ...       ...       ...       ...     ...     ...   \n",
       "1232 2020-12-23  46444.18  46072.30  46513.32  45899.10  10.47M   0.95%   \n",
       "1233 2020-12-24  46973.54  46743.49  47053.40  46539.02  13.71M   1.14%   \n",
       "1234 2020-12-28  47353.75  47153.59  47406.72  47148.24   9.59M   0.81%   \n",
       "1235 2020-12-29  47613.08  47466.62  47714.55  47361.90  12.76M   0.55%   \n",
       "1236 2020-12-30  47746.22  47789.03  47807.85  47358.36  15.63M   0.28%   \n",
       "\n",
       "                                                   News  Subjectivity  \\\n",
       "0     answer food choic must tri tea healthier right...      0.405949   \n",
       "1     pic winter food help lose weight top health we...      0.396936   \n",
       "2     surpris fact exercis sweat bizarr home remedi ...      0.402258   \n",
       "3     top weight manag tip travel depress find simpl...      0.376177   \n",
       "4     way say stress exercis tone thigh guid correct...      0.401723   \n",
       "...                                                 ...           ...   \n",
       "1232  sawmil makarpura gidc gut none hurt civic bodi...      0.368617   \n",
       "1233  set mood sex cold winter two hous blow gujarat...      0.386303   \n",
       "1234  horoscop today decemb check astrolog predict a...      0.395275   \n",
       "1235  man recov char remain thief burnt shop dump be...      0.399135   \n",
       "1236  numerolog read decemb predict lucki colour luc...      0.389012   \n",
       "\n",
       "      Polarity  Compound  Negative  Neutral  Positive  \n",
       "0     0.084809   -0.9997     0.144    0.762     0.094  \n",
       "1     0.079459   -0.9994     0.121    0.787     0.092  \n",
       "2     0.035205   -0.9997     0.139    0.769     0.091  \n",
       "3     0.074015   -0.9999     0.162    0.753     0.085  \n",
       "4     0.087999   -0.9989     0.126    0.768     0.106  \n",
       "...        ...       ...       ...      ...       ...  \n",
       "1232  0.091200   -0.9999     0.145    0.789     0.066  \n",
       "1233  0.065157   -0.9995     0.116    0.809     0.075  \n",
       "1234  0.085493   -0.9996     0.120    0.807     0.074  \n",
       "1235  0.068856   -0.9998     0.145    0.782     0.073  \n",
       "1236  0.040116   -0.9999     0.149    0.782     0.069  \n",
       "\n",
       "[1237 rows x 14 columns]"
      ]
     },
     "execution_count": 34,
     "metadata": {},
     "output_type": "execute_result"
    }
   ],
   "source": [
    "df_merge = pd.merge(df_prices, df_news, how='inner', on='Date')\n",
    "df_merge"
   ]
  },
  {
   "cell_type": "code",
   "execution_count": 36,
   "metadata": {
    "colab": {
     "base_uri": "https://localhost:8080/",
     "height": 419
    },
    "id": "Ju9y5HJ4Fe8P",
    "outputId": "7751ee51-e543-42c0-a1e5-eab1770570dd"
   },
   "outputs": [
    {
     "data": {
      "text/html": [
       "<div>\n",
       "<style scoped>\n",
       "    .dataframe tbody tr th:only-of-type {\n",
       "        vertical-align: middle;\n",
       "    }\n",
       "\n",
       "    .dataframe tbody tr th {\n",
       "        vertical-align: top;\n",
       "    }\n",
       "\n",
       "    .dataframe thead th {\n",
       "        text-align: right;\n",
       "    }\n",
       "</style>\n",
       "<table border=\"1\" class=\"dataframe\">\n",
       "  <thead>\n",
       "    <tr style=\"text-align: right;\">\n",
       "      <th></th>\n",
       "      <th>Price</th>\n",
       "      <th>Subjectivity</th>\n",
       "      <th>Polarity</th>\n",
       "      <th>Compound</th>\n",
       "      <th>Negative</th>\n",
       "      <th>Neutral</th>\n",
       "      <th>Positive</th>\n",
       "    </tr>\n",
       "  </thead>\n",
       "  <tbody>\n",
       "    <tr>\n",
       "      <th>0</th>\n",
       "      <td>26117.54</td>\n",
       "      <td>0.405949</td>\n",
       "      <td>0.084809</td>\n",
       "      <td>-0.9997</td>\n",
       "      <td>0.144</td>\n",
       "      <td>0.762</td>\n",
       "      <td>0.094</td>\n",
       "    </tr>\n",
       "    <tr>\n",
       "      <th>1</th>\n",
       "      <td>26160.90</td>\n",
       "      <td>0.396936</td>\n",
       "      <td>0.079459</td>\n",
       "      <td>-0.9994</td>\n",
       "      <td>0.121</td>\n",
       "      <td>0.787</td>\n",
       "      <td>0.092</td>\n",
       "    </tr>\n",
       "    <tr>\n",
       "      <th>2</th>\n",
       "      <td>25623.35</td>\n",
       "      <td>0.402258</td>\n",
       "      <td>0.035205</td>\n",
       "      <td>-0.9997</td>\n",
       "      <td>0.139</td>\n",
       "      <td>0.769</td>\n",
       "      <td>0.091</td>\n",
       "    </tr>\n",
       "    <tr>\n",
       "      <th>3</th>\n",
       "      <td>25580.34</td>\n",
       "      <td>0.376177</td>\n",
       "      <td>0.074015</td>\n",
       "      <td>-0.9999</td>\n",
       "      <td>0.162</td>\n",
       "      <td>0.753</td>\n",
       "      <td>0.085</td>\n",
       "    </tr>\n",
       "    <tr>\n",
       "      <th>4</th>\n",
       "      <td>25406.33</td>\n",
       "      <td>0.401723</td>\n",
       "      <td>0.087999</td>\n",
       "      <td>-0.9989</td>\n",
       "      <td>0.126</td>\n",
       "      <td>0.768</td>\n",
       "      <td>0.106</td>\n",
       "    </tr>\n",
       "    <tr>\n",
       "      <th>...</th>\n",
       "      <td>...</td>\n",
       "      <td>...</td>\n",
       "      <td>...</td>\n",
       "      <td>...</td>\n",
       "      <td>...</td>\n",
       "      <td>...</td>\n",
       "      <td>...</td>\n",
       "    </tr>\n",
       "    <tr>\n",
       "      <th>1232</th>\n",
       "      <td>46444.18</td>\n",
       "      <td>0.368617</td>\n",
       "      <td>0.091200</td>\n",
       "      <td>-0.9999</td>\n",
       "      <td>0.145</td>\n",
       "      <td>0.789</td>\n",
       "      <td>0.066</td>\n",
       "    </tr>\n",
       "    <tr>\n",
       "      <th>1233</th>\n",
       "      <td>46973.54</td>\n",
       "      <td>0.386303</td>\n",
       "      <td>0.065157</td>\n",
       "      <td>-0.9995</td>\n",
       "      <td>0.116</td>\n",
       "      <td>0.809</td>\n",
       "      <td>0.075</td>\n",
       "    </tr>\n",
       "    <tr>\n",
       "      <th>1234</th>\n",
       "      <td>47353.75</td>\n",
       "      <td>0.395275</td>\n",
       "      <td>0.085493</td>\n",
       "      <td>-0.9996</td>\n",
       "      <td>0.120</td>\n",
       "      <td>0.807</td>\n",
       "      <td>0.074</td>\n",
       "    </tr>\n",
       "    <tr>\n",
       "      <th>1235</th>\n",
       "      <td>47613.08</td>\n",
       "      <td>0.399135</td>\n",
       "      <td>0.068856</td>\n",
       "      <td>-0.9998</td>\n",
       "      <td>0.145</td>\n",
       "      <td>0.782</td>\n",
       "      <td>0.073</td>\n",
       "    </tr>\n",
       "    <tr>\n",
       "      <th>1236</th>\n",
       "      <td>47746.22</td>\n",
       "      <td>0.389012</td>\n",
       "      <td>0.040116</td>\n",
       "      <td>-0.9999</td>\n",
       "      <td>0.149</td>\n",
       "      <td>0.782</td>\n",
       "      <td>0.069</td>\n",
       "    </tr>\n",
       "  </tbody>\n",
       "</table>\n",
       "<p>1237 rows × 7 columns</p>\n",
       "</div>"
      ],
      "text/plain": [
       "         Price  Subjectivity  Polarity  Compound  Negative  Neutral  Positive\n",
       "0     26117.54      0.405949  0.084809   -0.9997     0.144    0.762     0.094\n",
       "1     26160.90      0.396936  0.079459   -0.9994     0.121    0.787     0.092\n",
       "2     25623.35      0.402258  0.035205   -0.9997     0.139    0.769     0.091\n",
       "3     25580.34      0.376177  0.074015   -0.9999     0.162    0.753     0.085\n",
       "4     25406.33      0.401723  0.087999   -0.9989     0.126    0.768     0.106\n",
       "...        ...           ...       ...       ...       ...      ...       ...\n",
       "1232  46444.18      0.368617  0.091200   -0.9999     0.145    0.789     0.066\n",
       "1233  46973.54      0.386303  0.065157   -0.9995     0.116    0.809     0.075\n",
       "1234  47353.75      0.395275  0.085493   -0.9996     0.120    0.807     0.074\n",
       "1235  47613.08      0.399135  0.068856   -0.9998     0.145    0.782     0.073\n",
       "1236  47746.22      0.389012  0.040116   -0.9999     0.149    0.782     0.069\n",
       "\n",
       "[1237 rows x 7 columns]"
      ]
     },
     "execution_count": 36,
     "metadata": {},
     "output_type": "execute_result"
    }
   ],
   "source": [
    "df = df_merge[['Price','Subjectivity', 'Polarity', 'Compound', 'Negative', 'Neutral' ,'Positive']]\n",
    "df"
   ]
  },
  {
   "cell_type": "code",
   "execution_count": 37,
   "metadata": {
    "colab": {
     "base_uri": "https://localhost:8080/",
     "height": 204
    },
    "id": "9cr5VpvHxOHV",
    "outputId": "0572f964-b3a4-49bd-b524-8ac4197cf9ae"
   },
   "outputs": [
    {
     "data": {
      "text/html": [
       "<div>\n",
       "<style scoped>\n",
       "    .dataframe tbody tr th:only-of-type {\n",
       "        vertical-align: middle;\n",
       "    }\n",
       "\n",
       "    .dataframe tbody tr th {\n",
       "        vertical-align: top;\n",
       "    }\n",
       "\n",
       "    .dataframe thead th {\n",
       "        text-align: right;\n",
       "    }\n",
       "</style>\n",
       "<table border=\"1\" class=\"dataframe\">\n",
       "  <thead>\n",
       "    <tr style=\"text-align: right;\">\n",
       "      <th></th>\n",
       "      <th>Price</th>\n",
       "      <th>Subjectivity</th>\n",
       "      <th>Polarity</th>\n",
       "      <th>Compound</th>\n",
       "      <th>Negative</th>\n",
       "      <th>Neutral</th>\n",
       "      <th>Positive</th>\n",
       "    </tr>\n",
       "  </thead>\n",
       "  <tbody>\n",
       "    <tr>\n",
       "      <th>0</th>\n",
       "      <td>0.127678</td>\n",
       "      <td>0.402011</td>\n",
       "      <td>0.308655</td>\n",
       "      <td>0.000153</td>\n",
       "      <td>0.563107</td>\n",
       "      <td>0.279661</td>\n",
       "      <td>0.580247</td>\n",
       "    </tr>\n",
       "    <tr>\n",
       "      <th>1</th>\n",
       "      <td>0.129427</td>\n",
       "      <td>0.361985</td>\n",
       "      <td>0.291828</td>\n",
       "      <td>0.000306</td>\n",
       "      <td>0.339806</td>\n",
       "      <td>0.491525</td>\n",
       "      <td>0.555556</td>\n",
       "    </tr>\n",
       "    <tr>\n",
       "      <th>2</th>\n",
       "      <td>0.107747</td>\n",
       "      <td>0.385620</td>\n",
       "      <td>0.152642</td>\n",
       "      <td>0.000153</td>\n",
       "      <td>0.514563</td>\n",
       "      <td>0.338983</td>\n",
       "      <td>0.543210</td>\n",
       "    </tr>\n",
       "    <tr>\n",
       "      <th>3</th>\n",
       "      <td>0.106012</td>\n",
       "      <td>0.269805</td>\n",
       "      <td>0.274704</td>\n",
       "      <td>0.000051</td>\n",
       "      <td>0.737864</td>\n",
       "      <td>0.203390</td>\n",
       "      <td>0.469136</td>\n",
       "    </tr>\n",
       "    <tr>\n",
       "      <th>4</th>\n",
       "      <td>0.098994</td>\n",
       "      <td>0.383242</td>\n",
       "      <td>0.318687</td>\n",
       "      <td>0.000561</td>\n",
       "      <td>0.388350</td>\n",
       "      <td>0.330508</td>\n",
       "      <td>0.728395</td>\n",
       "    </tr>\n",
       "  </tbody>\n",
       "</table>\n",
       "</div>"
      ],
      "text/plain": [
       "      Price  Subjectivity  Polarity  Compound  Negative   Neutral  Positive\n",
       "0  0.127678      0.402011  0.308655  0.000153  0.563107  0.279661  0.580247\n",
       "1  0.129427      0.361985  0.291828  0.000306  0.339806  0.491525  0.555556\n",
       "2  0.107747      0.385620  0.152642  0.000153  0.514563  0.338983  0.543210\n",
       "3  0.106012      0.269805  0.274704  0.000051  0.737864  0.203390  0.469136\n",
       "4  0.098994      0.383242  0.318687  0.000561  0.388350  0.330508  0.728395"
      ]
     },
     "execution_count": 37,
     "metadata": {},
     "output_type": "execute_result"
    }
   ],
   "source": [
    "from sklearn.preprocessing import MinMaxScaler\n",
    "sc = MinMaxScaler()\n",
    "new_df = pd.DataFrame(sc.fit_transform(df))\n",
    "new_df.columns = df.columns\n",
    "new_df.index = df.index\n",
    "new_df.head()"
   ]
  },
  {
   "cell_type": "code",
   "execution_count": 39,
   "metadata": {
    "id": "8YshU5poFne8"
   },
   "outputs": [],
   "source": [
    "X = new_df.drop('Price', axis=1)\n",
    "y =new_df['Price']"
   ]
  },
  {
   "cell_type": "code",
   "execution_count": 40,
   "metadata": {
    "colab": {
     "base_uri": "https://localhost:8080/",
     "height": 204
    },
    "id": "qVA12l3w1SoS",
    "outputId": "2eff1014-fbb8-4ad0-d1c5-ea8c1761ec6c"
   },
   "outputs": [
    {
     "data": {
      "text/html": [
       "<div>\n",
       "<style scoped>\n",
       "    .dataframe tbody tr th:only-of-type {\n",
       "        vertical-align: middle;\n",
       "    }\n",
       "\n",
       "    .dataframe tbody tr th {\n",
       "        vertical-align: top;\n",
       "    }\n",
       "\n",
       "    .dataframe thead th {\n",
       "        text-align: right;\n",
       "    }\n",
       "</style>\n",
       "<table border=\"1\" class=\"dataframe\">\n",
       "  <thead>\n",
       "    <tr style=\"text-align: right;\">\n",
       "      <th></th>\n",
       "      <th>Subjectivity</th>\n",
       "      <th>Polarity</th>\n",
       "      <th>Compound</th>\n",
       "      <th>Negative</th>\n",
       "      <th>Neutral</th>\n",
       "      <th>Positive</th>\n",
       "    </tr>\n",
       "  </thead>\n",
       "  <tbody>\n",
       "    <tr>\n",
       "      <th>0</th>\n",
       "      <td>0.402011</td>\n",
       "      <td>0.308655</td>\n",
       "      <td>0.000153</td>\n",
       "      <td>0.563107</td>\n",
       "      <td>0.279661</td>\n",
       "      <td>0.580247</td>\n",
       "    </tr>\n",
       "    <tr>\n",
       "      <th>1</th>\n",
       "      <td>0.361985</td>\n",
       "      <td>0.291828</td>\n",
       "      <td>0.000306</td>\n",
       "      <td>0.339806</td>\n",
       "      <td>0.491525</td>\n",
       "      <td>0.555556</td>\n",
       "    </tr>\n",
       "    <tr>\n",
       "      <th>2</th>\n",
       "      <td>0.385620</td>\n",
       "      <td>0.152642</td>\n",
       "      <td>0.000153</td>\n",
       "      <td>0.514563</td>\n",
       "      <td>0.338983</td>\n",
       "      <td>0.543210</td>\n",
       "    </tr>\n",
       "    <tr>\n",
       "      <th>3</th>\n",
       "      <td>0.269805</td>\n",
       "      <td>0.274704</td>\n",
       "      <td>0.000051</td>\n",
       "      <td>0.737864</td>\n",
       "      <td>0.203390</td>\n",
       "      <td>0.469136</td>\n",
       "    </tr>\n",
       "    <tr>\n",
       "      <th>4</th>\n",
       "      <td>0.383242</td>\n",
       "      <td>0.318687</td>\n",
       "      <td>0.000561</td>\n",
       "      <td>0.388350</td>\n",
       "      <td>0.330508</td>\n",
       "      <td>0.728395</td>\n",
       "    </tr>\n",
       "  </tbody>\n",
       "</table>\n",
       "</div>"
      ],
      "text/plain": [
       "   Subjectivity  Polarity  Compound  Negative   Neutral  Positive\n",
       "0      0.402011  0.308655  0.000153  0.563107  0.279661  0.580247\n",
       "1      0.361985  0.291828  0.000306  0.339806  0.491525  0.555556\n",
       "2      0.385620  0.152642  0.000153  0.514563  0.338983  0.543210\n",
       "3      0.269805  0.274704  0.000051  0.737864  0.203390  0.469136\n",
       "4      0.383242  0.318687  0.000561  0.388350  0.330508  0.728395"
      ]
     },
     "execution_count": 40,
     "metadata": {},
     "output_type": "execute_result"
    }
   ],
   "source": [
    "X.head()"
   ]
  },
  {
   "cell_type": "code",
   "execution_count": 41,
   "metadata": {
    "colab": {
     "base_uri": "https://localhost:8080/",
     "height": 34
    },
    "id": "SywSn2Zpxv_0",
    "outputId": "dea48c8b-dda8-46c0-f74d-41f9fa3e89be"
   },
   "outputs": [
    {
     "data": {
      "text/plain": [
       "(989, 6)"
      ]
     },
     "execution_count": 41,
     "metadata": {},
     "output_type": "execute_result"
    }
   ],
   "source": [
    "x_train, x_test, y_train, y_test = train_test_split(X, y, test_size=0.2, random_state = 0)\n",
    "x_train.shape"
   ]
  },
  {
   "cell_type": "code",
   "execution_count": 42,
   "metadata": {
    "colab": {
     "base_uri": "https://localhost:8080/",
     "height": 359
    },
    "id": "Z9ITxNN41W7a",
    "outputId": "a65bb65b-6075-424a-e054-048df50e0e75"
   },
   "outputs": [
    {
     "data": {
      "text/html": [
       "<div>\n",
       "<style scoped>\n",
       "    .dataframe tbody tr th:only-of-type {\n",
       "        vertical-align: middle;\n",
       "    }\n",
       "\n",
       "    .dataframe tbody tr th {\n",
       "        vertical-align: top;\n",
       "    }\n",
       "\n",
       "    .dataframe thead th {\n",
       "        text-align: right;\n",
       "    }\n",
       "</style>\n",
       "<table border=\"1\" class=\"dataframe\">\n",
       "  <thead>\n",
       "    <tr style=\"text-align: right;\">\n",
       "      <th></th>\n",
       "      <th>Subjectivity</th>\n",
       "      <th>Polarity</th>\n",
       "      <th>Compound</th>\n",
       "      <th>Negative</th>\n",
       "      <th>Neutral</th>\n",
       "      <th>Positive</th>\n",
       "    </tr>\n",
       "  </thead>\n",
       "  <tbody>\n",
       "    <tr>\n",
       "      <th>1015</th>\n",
       "      <td>0.222508</td>\n",
       "      <td>0.173891</td>\n",
       "      <td>0.000102</td>\n",
       "      <td>0.650485</td>\n",
       "      <td>0.313559</td>\n",
       "      <td>0.419753</td>\n",
       "    </tr>\n",
       "    <tr>\n",
       "      <th>853</th>\n",
       "      <td>0.327196</td>\n",
       "      <td>0.206704</td>\n",
       "      <td>0.000102</td>\n",
       "      <td>0.601942</td>\n",
       "      <td>0.432203</td>\n",
       "      <td>0.308642</td>\n",
       "    </tr>\n",
       "    <tr>\n",
       "      <th>784</th>\n",
       "      <td>0.174744</td>\n",
       "      <td>0.297514</td>\n",
       "      <td>0.000102</td>\n",
       "      <td>0.757282</td>\n",
       "      <td>0.186441</td>\n",
       "      <td>0.481481</td>\n",
       "    </tr>\n",
       "    <tr>\n",
       "      <th>406</th>\n",
       "      <td>0.146931</td>\n",
       "      <td>0.170616</td>\n",
       "      <td>0.000102</td>\n",
       "      <td>0.427184</td>\n",
       "      <td>0.533898</td>\n",
       "      <td>0.382716</td>\n",
       "    </tr>\n",
       "    <tr>\n",
       "      <th>981</th>\n",
       "      <td>0.380534</td>\n",
       "      <td>0.246608</td>\n",
       "      <td>0.000102</td>\n",
       "      <td>0.563107</td>\n",
       "      <td>0.372881</td>\n",
       "      <td>0.444444</td>\n",
       "    </tr>\n",
       "    <tr>\n",
       "      <th>822</th>\n",
       "      <td>0.445076</td>\n",
       "      <td>0.290966</td>\n",
       "      <td>0.000102</td>\n",
       "      <td>0.582524</td>\n",
       "      <td>0.406780</td>\n",
       "      <td>0.370370</td>\n",
       "    </tr>\n",
       "    <tr>\n",
       "      <th>402</th>\n",
       "      <td>0.277431</td>\n",
       "      <td>0.175272</td>\n",
       "      <td>1.000000</td>\n",
       "      <td>0.194175</td>\n",
       "      <td>0.457627</td>\n",
       "      <td>0.790123</td>\n",
       "    </tr>\n",
       "    <tr>\n",
       "      <th>1039</th>\n",
       "      <td>0.207740</td>\n",
       "      <td>0.166533</td>\n",
       "      <td>0.000051</td>\n",
       "      <td>0.854369</td>\n",
       "      <td>0.288136</td>\n",
       "      <td>0.197531</td>\n",
       "    </tr>\n",
       "    <tr>\n",
       "      <th>302</th>\n",
       "      <td>0.266636</td>\n",
       "      <td>0.191675</td>\n",
       "      <td>0.000051</td>\n",
       "      <td>0.708738</td>\n",
       "      <td>0.245763</td>\n",
       "      <td>0.444444</td>\n",
       "    </tr>\n",
       "    <tr>\n",
       "      <th>1181</th>\n",
       "      <td>0.062206</td>\n",
       "      <td>0.214883</td>\n",
       "      <td>0.000051</td>\n",
       "      <td>0.757282</td>\n",
       "      <td>0.415254</td>\n",
       "      <td>0.135802</td>\n",
       "    </tr>\n",
       "  </tbody>\n",
       "</table>\n",
       "</div>"
      ],
      "text/plain": [
       "      Subjectivity  Polarity  Compound  Negative   Neutral  Positive\n",
       "1015      0.222508  0.173891  0.000102  0.650485  0.313559  0.419753\n",
       "853       0.327196  0.206704  0.000102  0.601942  0.432203  0.308642\n",
       "784       0.174744  0.297514  0.000102  0.757282  0.186441  0.481481\n",
       "406       0.146931  0.170616  0.000102  0.427184  0.533898  0.382716\n",
       "981       0.380534  0.246608  0.000102  0.563107  0.372881  0.444444\n",
       "822       0.445076  0.290966  0.000102  0.582524  0.406780  0.370370\n",
       "402       0.277431  0.175272  1.000000  0.194175  0.457627  0.790123\n",
       "1039      0.207740  0.166533  0.000051  0.854369  0.288136  0.197531\n",
       "302       0.266636  0.191675  0.000051  0.708738  0.245763  0.444444\n",
       "1181      0.062206  0.214883  0.000051  0.757282  0.415254  0.135802"
      ]
     },
     "execution_count": 42,
     "metadata": {},
     "output_type": "execute_result"
    }
   ],
   "source": [
    "x_train[:10]"
   ]
  },
  {
   "cell_type": "code",
   "execution_count": 43,
   "metadata": {
    "id": "8Xb3p5PsyCxL"
   },
   "outputs": [],
   "source": [
    "rf = RandomForestRegressor()\n",
    "rf.fit(x_train, y_train)\n",
    "prediction=rf.predict(x_test)"
   ]
  },
  {
   "cell_type": "code",
   "execution_count": 44,
   "metadata": {
    "colab": {
     "base_uri": "https://localhost:8080/",
     "height": 255
    },
    "id": "QQ44SlYU0_tV",
    "outputId": "8ebe0446-762b-4ce3-c35a-ac699007e551"
   },
   "outputs": [
    {
     "name": "stdout",
     "output_type": "stream",
     "text": [
      "[0.31862762 0.33098592 0.65256806 0.45723435 0.30613746 0.30983327\n",
      " 0.6148341  0.56211535 0.64532933 0.68376334]\n",
      "308     0.270045\n",
      "152     0.197939\n",
      "875     0.652535\n",
      "503     0.463058\n",
      "351     0.335619\n",
      "18      0.062133\n",
      "1001    0.732567\n",
      "1095    0.426973\n",
      "995     0.766335\n",
      "933     0.615568\n",
      "Name: Price, dtype: float64\n",
      "0.03170056481822039\n"
     ]
    }
   ],
   "source": [
    "print(prediction[:10])\n",
    "print(y_test[:10])\n",
    "print(mean_squared_error(prediction,y_test))"
   ]
  },
  {
   "cell_type": "code",
   "execution_count": 45,
   "metadata": {
    "id": "nq2Ugkav6kf1"
   },
   "outputs": [],
   "source": [
    "adb = AdaBoostRegressor()\n",
    "adb.fit(x_train, y_train)\n",
    "predictions = adb.predict(x_test)"
   ]
  },
  {
   "cell_type": "code",
   "execution_count": 46,
   "metadata": {
    "colab": {
     "base_uri": "https://localhost:8080/",
     "height": 34
    },
    "id": "nkc1C3tt6wIO",
    "outputId": "75e3b1c2-299f-4c79-cb36-fed9a47f762c"
   },
   "outputs": [
    {
     "name": "stdout",
     "output_type": "stream",
     "text": [
      "0.03573659574382308\n"
     ]
    }
   ],
   "source": [
    "print(mean_squared_error(predictions, y_test))"
   ]
  },
  {
   "cell_type": "code",
   "execution_count": 47,
   "metadata": {
    "id": "eaSqTmPq29Aj"
   },
   "outputs": [],
   "source": [
    "from sklearn.tree import DecisionTreeRegressor\n",
    "dec_tree = DecisionTreeRegressor()\n",
    "dec_tree.fit(x_train, y_train)\n",
    "predictions = dec_tree.predict(x_test)"
   ]
  },
  {
   "cell_type": "code",
   "execution_count": 48,
   "metadata": {
    "colab": {
     "base_uri": "https://localhost:8080/",
     "height": 255
    },
    "id": "0duwvBkP3bdY",
    "outputId": "bff03515-d922-4072-c8af-53e491b4abef"
   },
   "outputs": [
    {
     "name": "stdout",
     "output_type": "stream",
     "text": [
      "[0.19043703 0.28935497 0.67201653 0.14926683 0.16800212 0.33014565\n",
      " 0.67042343 0.9064607  0.57024956 0.7205626 ]\n",
      "308     0.270045\n",
      "152     0.197939\n",
      "875     0.652535\n",
      "503     0.463058\n",
      "351     0.335619\n",
      "18      0.062133\n",
      "1001    0.732567\n",
      "1095    0.426973\n",
      "995     0.766335\n",
      "933     0.615568\n",
      "Name: Price, dtype: float64\n",
      "0.05859914990578003\n"
     ]
    }
   ],
   "source": [
    "print(predictions[:10])\n",
    "print(y_test[:10])\n",
    "print(mean_squared_error(predictions,y_test))"
   ]
  },
  {
   "cell_type": "code",
   "execution_count": 49,
   "metadata": {
    "colab": {
     "base_uri": "https://localhost:8080/",
     "height": 119
    },
    "id": "RZ-BFaZP4rWA",
    "outputId": "10f37410-ae0c-4de7-db8f-83bef0ccabfe"
   },
   "outputs": [
    {
     "data": {
      "text/plain": [
       "LGBMRegressor()"
      ]
     },
     "execution_count": 49,
     "metadata": {},
     "output_type": "execute_result"
    }
   ],
   "source": [
    "lgb = lightgbm.LGBMRegressor()\n",
    "lgb.fit(x_train, y_train)"
   ]
  },
  {
   "cell_type": "code",
   "execution_count": 50,
   "metadata": {
    "colab": {
     "base_uri": "https://localhost:8080/",
     "height": 34
    },
    "id": "rRJ1D-ba5W7B",
    "outputId": "085ce566-a95c-4960-c39a-cd0733237b05"
   },
   "outputs": [
    {
     "name": "stdout",
     "output_type": "stream",
     "text": [
      "0.03362574968370159\n"
     ]
    }
   ],
   "source": [
    "predictions = lgb.predict(x_test)\n",
    "print(mean_squared_error(predictions,y_test))"
   ]
  },
  {
   "cell_type": "code",
   "execution_count": 51,
   "metadata": {
    "colab": {
     "base_uri": "https://localhost:8080/",
     "height": 173
    },
    "id": "OIdi44Xm5_uR",
    "outputId": "1a81aa3e-e2ce-437a-a8c8-604c9e846097"
   },
   "outputs": [
    {
     "data": {
      "text/plain": [
       "XGBRegressor(base_score=0.5, booster='gbtree', colsample_bylevel=1,\n",
       "             colsample_bynode=1, colsample_bytree=1, gamma=0, gpu_id=-1,\n",
       "             importance_type='gain', interaction_constraints='',\n",
       "             learning_rate=0.300000012, max_delta_step=0, max_depth=6,\n",
       "             min_child_weight=1, missing=nan, monotone_constraints='()',\n",
       "             n_estimators=100, n_jobs=0, num_parallel_tree=1, random_state=0,\n",
       "             reg_alpha=0, reg_lambda=1, scale_pos_weight=1, subsample=1,\n",
       "             tree_method='exact', validate_parameters=1, verbosity=None)"
      ]
     },
     "execution_count": 51,
     "metadata": {},
     "output_type": "execute_result"
    }
   ],
   "source": [
    "xgb = xgboost.XGBRegressor()\n",
    "xgb.fit(x_train, y_train)"
   ]
  },
  {
   "cell_type": "code",
   "execution_count": 52,
   "metadata": {
    "colab": {
     "base_uri": "https://localhost:8080/",
     "height": 34
    },
    "id": "AxhH9EJ16Wkz",
    "outputId": "a792212f-0a8a-418d-c861-52fb7d90a654"
   },
   "outputs": [
    {
     "name": "stdout",
     "output_type": "stream",
     "text": [
      "0.03284519975362974\n"
     ]
    }
   ],
   "source": [
    "predictions = xgb.predict(x_test)\n",
    "print(mean_squared_error(predictions,y_test))"
   ]
  },
  {
   "cell_type": "markdown",
   "metadata": {
    "id": "RNeRBjhVXcIS"
   },
   "source": [
    "We observe that Adaboost model performs the best for the sentiment analysis"
   ]
  },
  {
   "cell_type": "code",
   "execution_count": null,
   "metadata": {},
   "outputs": [],
   "source": []
  }
 ],
 "metadata": {
  "colab": {
   "collapsed_sections": [],
   "name": "Numerical and Textual Analysis of Stock Market Prices .ipynb",
   "provenance": []
  },
  "kernelspec": {
   "display_name": "Python 3",
   "language": "python",
   "name": "python3"
  },
  "language_info": {
   "codemirror_mode": {
    "name": "ipython",
    "version": 3
   },
   "file_extension": ".py",
   "mimetype": "text/x-python",
   "name": "python",
   "nbconvert_exporter": "python",
   "pygments_lexer": "ipython3",
   "version": "3.8.3"
  }
 },
 "nbformat": 4,
 "nbformat_minor": 1
}
